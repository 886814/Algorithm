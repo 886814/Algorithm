{
 "cells": [
  {
   "cell_type": "code",
   "execution_count": null,
   "metadata": {},
   "outputs": [],
   "source": [
    "def make_pi():\n",
    "    pi = [0 for i in range(0, len(P))]\n",
    "\n",
    "    j = 0\n",
    "    for i in range(1, len(P)):\n",
    "        while j > 0 and P[i] != P[j]:\n",
    "            j = pi[j - 1]\n",
    "\n",
    "        if (P[i] == P[j]):\n",
    "            j += 1\n",
    "            pi[i] = j\n",
    "    return pi\n",
    "\n",
    "\n",
    "def solution(pi):\n",
    "    result = []\n",
    "    count = 0\n",
    "\n",
    "    j = 0\n",
    "    for i in range(0, len(T)):\n",
    "\n",
    "        while j > 0 and T[i] != P[j]:\n",
    "            j = pi[j - 1]\n",
    "\n",
    "        if T[i] == P[j]:\n",
    "            if j == (len(P) - 1):\n",
    "                result.append(i - len(P) + 2)\n",
    "                count += 1\n",
    "                j = pi[j]\n",
    "            else:\n",
    "                j += 1\n",
    "\n",
    "    print(count)\n",
    "    for element in result:\n",
    "        print(element)\n",
    "\n",
    "\n",
    "T = input()\n",
    "P = input()\n",
    "solution(make_pi())"
   ]
  }
 ],
 "metadata": {
  "kernelspec": {
   "display_name": "Python 3",
   "language": "python",
   "name": "python3"
  },
  "language_info": {
   "codemirror_mode": {
    "name": "ipython",
    "version": 3
   },
   "file_extension": ".py",
   "mimetype": "text/x-python",
   "name": "python",
   "nbconvert_exporter": "python",
   "pygments_lexer": "ipython3",
   "version": "3.8.8"
  },
  "toc": {
   "base_numbering": 1,
   "nav_menu": {},
   "number_sections": true,
   "sideBar": true,
   "skip_h1_title": false,
   "title_cell": "Table of Contents",
   "title_sidebar": "Contents",
   "toc_cell": false,
   "toc_position": {},
   "toc_section_display": true,
   "toc_window_display": false
  }
 },
 "nbformat": 4,
 "nbformat_minor": 4
}
