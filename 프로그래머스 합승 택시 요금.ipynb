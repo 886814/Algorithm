{
 "cells": [
  {
   "cell_type": "code",
   "execution_count": null,
   "metadata": {},
   "outputs": [],
   "source": [
    "def solution(n, s, a, b, fares):\n",
    "    \n",
    "    dis = [[9999999]*(n+1) for _ in range(n+1)]\n",
    "    \n",
    "    for i in range(n+1):\n",
    "        dis[i][i] = 0\n",
    "        \n",
    "    for fare in fares:\n",
    "        x,y,c = fare\n",
    "        dis[x][y] = c\n",
    "        dis[y][x] = c\n",
    "        \n",
    "    for k in range(1,n+1):\n",
    "        for i in range(1,n+1):\n",
    "            for j in range(1,n+1):\n",
    "                dis[i][j] = min(dis[i][j], dis[i][k] + dis[k][j])\n",
    "        \n",
    "    \n",
    "    answer = dis[s][a] + dis[s][b]\n",
    "    \n",
    "    for k in range(1,n+1):\n",
    "        answer = min(answer,dis[s][k] + dis[k][a] + dis[k][b])\n",
    "\n",
    "    \n",
    "    return answer"
   ]
  }
 ],
 "metadata": {
  "kernelspec": {
   "display_name": "Python 3",
   "language": "python",
   "name": "python3"
  },
  "language_info": {
   "codemirror_mode": {
    "name": "ipython",
    "version": 3
   },
   "file_extension": ".py",
   "mimetype": "text/x-python",
   "name": "python",
   "nbconvert_exporter": "python",
   "pygments_lexer": "ipython3",
   "version": "3.8.3"
  },
  "toc": {
   "base_numbering": 1,
   "nav_menu": {},
   "number_sections": true,
   "sideBar": true,
   "skip_h1_title": false,
   "title_cell": "Table of Contents",
   "title_sidebar": "Contents",
   "toc_cell": false,
   "toc_position": {},
   "toc_section_display": true,
   "toc_window_display": false
  }
 },
 "nbformat": 4,
 "nbformat_minor": 4
}
