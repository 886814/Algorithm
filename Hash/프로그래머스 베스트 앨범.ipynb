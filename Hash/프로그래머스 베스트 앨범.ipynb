{
 "cells": [
  {
   "cell_type": "code",
   "execution_count": null,
   "metadata": {},
   "outputs": [],
   "source": [
    "def solution(genres, plays):\n",
    "    hash_map = {}\n",
    "    result = []\n",
    "    hash2 = list((s,t) for s,t in enumerate([(x,y) for x,y in zip(genres,plays)]))\n",
    "    for x,y in zip(genres,plays):\n",
    "        hash_map[x] = y + hash_map.get(x,0)\n",
    "    hash_sorted = [x for x in sorted(hash_map.items(),key = lambda x : x[1],reverse = True)]\n",
    "    for i in hash_sorted:\n",
    "        tmp = []\n",
    "        for j in hash2:\n",
    "            if i[0] == j[1][0]:\n",
    "                tmp.append((j[1][1],j[0]))\n",
    "        else:\n",
    "            tmp.sort(key = lambda x : (-x[0],x[1]))\n",
    "            if len(tmp) == 1:\n",
    "                result.append(tmp.pop()[1])\n",
    "            else:\n",
    "                result.append(tmp.pop(0)[1])\n",
    "                result.append(tmp.pop(0)[1])\n",
    "    return result"
   ]
  }
 ],
 "metadata": {
  "kernelspec": {
   "display_name": "Python 3",
   "language": "python",
   "name": "python3"
  },
  "language_info": {
   "codemirror_mode": {
    "name": "ipython",
    "version": 3
   },
   "file_extension": ".py",
   "mimetype": "text/x-python",
   "name": "python",
   "nbconvert_exporter": "python",
   "pygments_lexer": "ipython3",
   "version": "3.8.3"
  },
  "toc": {
   "base_numbering": 1,
   "nav_menu": {},
   "number_sections": true,
   "sideBar": true,
   "skip_h1_title": false,
   "title_cell": "Table of Contents",
   "title_sidebar": "Contents",
   "toc_cell": false,
   "toc_position": {},
   "toc_section_display": true,
   "toc_window_display": false
  }
 },
 "nbformat": 4,
 "nbformat_minor": 4
}
