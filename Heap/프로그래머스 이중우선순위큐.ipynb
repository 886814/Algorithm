{
 "cells": [
  {
   "cell_type": "code",
   "execution_count": null,
   "metadata": {},
   "outputs": [],
   "source": [
    "from collections import deque\n",
    "import heapq\n",
    "def solution(operations):\n",
    "    q = []\n",
    "    heapq.heapify(q)\n",
    "    operations = deque(operations)\n",
    "    ans = [0,0]\n",
    "\n",
    "    while operations:\n",
    "        command, num = operations.popleft().split()\n",
    "        if command == \"I\":\n",
    "            heapq.heappush(q, int(num))\n",
    "        elif command  == \"D\" and len(q) > 0:\n",
    "            if num == \"-1\":\n",
    "                heapq.heappop(q)\n",
    "            elif num == \"1\":\n",
    "                q = heapq.nlargest(len(q), q)[1:]\n",
    "                heapq.heapify(q)\n",
    "\n",
    "    if len(q) >= 1:\n",
    "        max_ = heapq.nlargest(1,q)[0]\n",
    "        min_ = heapq.heappop(q)\n",
    "        ans = [max_, min_]\n",
    "    return ans"
   ]
  }
 ],
 "metadata": {
  "kernelspec": {
   "display_name": "Python 3 (ipykernel)",
   "language": "python",
   "name": "python3"
  },
  "language_info": {
   "codemirror_mode": {
    "name": "ipython",
    "version": 3
   },
   "file_extension": ".py",
   "mimetype": "text/x-python",
   "name": "python",
   "nbconvert_exporter": "python",
   "pygments_lexer": "ipython3",
   "version": "3.8.12"
  },
  "toc": {
   "base_numbering": 1,
   "nav_menu": {},
   "number_sections": true,
   "sideBar": true,
   "skip_h1_title": false,
   "title_cell": "Table of Contents",
   "title_sidebar": "Contents",
   "toc_cell": false,
   "toc_position": {},
   "toc_section_display": true,
   "toc_window_display": false
  }
 },
 "nbformat": 4,
 "nbformat_minor": 4
}
