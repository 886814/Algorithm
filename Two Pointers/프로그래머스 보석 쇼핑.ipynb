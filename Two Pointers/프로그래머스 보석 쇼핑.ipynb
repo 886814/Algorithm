{
 "cells": [
  {
   "cell_type": "code",
   "execution_count": null,
   "metadata": {},
   "outputs": [],
   "source": [
    "def solution(gems):\n",
    "    \n",
    "    result = []\n",
    "    length = len(gems) + 1\n",
    "    gem_dict = {}\n",
    "    gemgem = set(gems)\n",
    "    l,r = 0, 0\n",
    "\n",
    "    while r < len(gems):\n",
    "        if gems[r] not in gem_dict:\n",
    "            gem_dict[gems[r]] = 1\n",
    "        else:\n",
    "            gem_dict[gems[r]] += 1\n",
    "\n",
    "        r += 1\n",
    "\n",
    "        if len(gem_dict) == len(gemgem):\n",
    "            while l < r:\n",
    "                if gem_dict[gems[l]] > 1:\n",
    "                    gem_dict[gems[l]] -= 1\n",
    "                    l += 1\n",
    "                elif r - l < length:\n",
    "                    length = r - l\n",
    "                    result = [l+1,r]\n",
    "                    break\n",
    "                else:\n",
    "                    break\n",
    "\n",
    "    return result"
   ]
  }
 ],
 "metadata": {
  "kernelspec": {
   "display_name": "Python 3",
   "language": "python",
   "name": "python3"
  },
  "language_info": {
   "codemirror_mode": {
    "name": "ipython",
    "version": 3
   },
   "file_extension": ".py",
   "mimetype": "text/x-python",
   "name": "python",
   "nbconvert_exporter": "python",
   "pygments_lexer": "ipython3",
   "version": "3.8.8"
  },
  "toc": {
   "base_numbering": 1,
   "nav_menu": {},
   "number_sections": true,
   "sideBar": true,
   "skip_h1_title": false,
   "title_cell": "Table of Contents",
   "title_sidebar": "Contents",
   "toc_cell": false,
   "toc_position": {},
   "toc_section_display": true,
   "toc_window_display": false
  }
 },
 "nbformat": 4,
 "nbformat_minor": 4
}
