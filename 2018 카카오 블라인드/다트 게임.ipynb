{
 "cells": [
  {
   "cell_type": "code",
   "execution_count": null,
   "metadata": {},
   "outputs": [],
   "source": [
    "def solution(dart):\n",
    "    dart = dart.replace(\"10\",\"x\")\n",
    "    dart = dart.replace(\"S\",\"1\").replace(\"D\",\"2\").replace(\"T\",\"3\")\n",
    "    dart = list(dart)\n",
    "    for i in range(len(dart)):\n",
    "        if dart[i] == \"x\":\n",
    "            dart[i] = \"10\"\n",
    "    score = [0]\n",
    "\n",
    "    while dart:\n",
    "        tmp = int(dart[0])**int(dart[1])\n",
    "        dart.pop(0)\n",
    "        dart.pop(0)\n",
    "        if len(dart)==0:\n",
    "            score.append(tmp)\n",
    "        elif dart[0].isdecimal() == False:\n",
    "            if dart[0] == '*':\n",
    "                score[-1] *= 2\n",
    "                score.append(2 * tmp)\n",
    "            elif dart[0] == '#':\n",
    "                score.append(-tmp)\n",
    "            dart.pop(0)\n",
    "        else:\n",
    "            score.append(tmp)\n",
    "    \n",
    "    answer = sum(score)\n",
    "    \n",
    "    return answer"
   ]
  }
 ],
 "metadata": {
  "kernelspec": {
   "display_name": "Python 3",
   "language": "python",
   "name": "python3"
  },
  "language_info": {
   "codemirror_mode": {
    "name": "ipython",
    "version": 3
   },
   "file_extension": ".py",
   "mimetype": "text/x-python",
   "name": "python",
   "nbconvert_exporter": "python",
   "pygments_lexer": "ipython3",
   "version": "3.8.8"
  },
  "toc": {
   "base_numbering": 1,
   "nav_menu": {},
   "number_sections": true,
   "sideBar": true,
   "skip_h1_title": false,
   "title_cell": "Table of Contents",
   "title_sidebar": "Contents",
   "toc_cell": false,
   "toc_position": {},
   "toc_section_display": true,
   "toc_window_display": false
  }
 },
 "nbformat": 4,
 "nbformat_minor": 4
}
