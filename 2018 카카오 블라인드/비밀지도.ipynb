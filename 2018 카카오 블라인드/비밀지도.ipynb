{
 "cells": [
  {
   "cell_type": "code",
   "execution_count": null,
   "metadata": {},
   "outputs": [],
   "source": [
    "def delete(m,n,board):\n",
    "    check = [[0]*n for _ in range(m)]\n",
    "    for i in range(m-1):\n",
    "        for j in range(n-1):\n",
    "            if board[i][j] == board[i][j+1] == board[i+1][j]==board[i+1][j+1] !=0: \n",
    "                check[i][j]=1\n",
    "                check[i][j+1]=1\n",
    "                check[i+1][j]=1\n",
    "                check[i+1][j+1]=1   \n",
    "    for u in range(m):\n",
    "        for v in range(n):\n",
    "            if check[u][v] == 1: \n",
    "                board[u][v] = 0  # 보드 빈 부분 0으로 표시\n",
    "    return board\n",
    "\n",
    "def fall(m,n,board):\n",
    "    for j in range(n):\n",
    "        for i in range(m-1):\n",
    "            if board[i+1][j] == 0:\n",
    "                pv = 0\n",
    "                k = 0\n",
    "                while i+1+pv<=m-1: # 0을 발견하면 그 밑으로 0이 몇개인지 카운팅\n",
    "                    if board[i+1+pv][j] == 0:\n",
    "                        pv += 1\n",
    "                    else:\n",
    "                        break\n",
    "                while i-k >= 0 : # 0 갯수 만큼 아래로 내림\n",
    "                    board[i+pv-k][j] = board[i-k][j]\n",
    "                    board[i-k][j] = 0\n",
    "                    k+=1\n",
    "    return board\n",
    "\n",
    "def solution(m, n, board):\n",
    "    answer = 0\n",
    "    for s in range(m):\n",
    "        board[s] = list(board[s])\n",
    "    for _ in range(m):\n",
    "        delete(m,n,board)\n",
    "        fall(m,n,board)\n",
    "    for i in board:\n",
    "        answer += i.count(0)\n",
    "    return answer"
   ]
  }
 ],
 "metadata": {
  "kernelspec": {
   "display_name": "Python 3",
   "language": "python",
   "name": "python3"
  },
  "language_info": {
   "codemirror_mode": {
    "name": "ipython",
    "version": 3
   },
   "file_extension": ".py",
   "mimetype": "text/x-python",
   "name": "python",
   "nbconvert_exporter": "python",
   "pygments_lexer": "ipython3",
   "version": "3.8.3"
  },
  "toc": {
   "base_numbering": 1,
   "nav_menu": {},
   "number_sections": true,
   "sideBar": true,
   "skip_h1_title": false,
   "title_cell": "Table of Contents",
   "title_sidebar": "Contents",
   "toc_cell": false,
   "toc_position": {},
   "toc_section_display": true,
   "toc_window_display": false
  }
 },
 "nbformat": 4,
 "nbformat_minor": 4
}
