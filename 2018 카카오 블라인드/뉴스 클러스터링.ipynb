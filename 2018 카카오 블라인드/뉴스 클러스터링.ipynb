{
 "cells": [
  {
   "cell_type": "code",
   "execution_count": null,
   "metadata": {},
   "outputs": [],
   "source": [
    "def solution(str1, str2):\n",
    "    str1 = str1.upper()\n",
    "    str2 = str2.upper()\n",
    "\n",
    "    a = [str1[i:i+2] for i in range(len(str1)-1) if str1[i:i+2].isalpha()]\n",
    "    b = [str2[i:i+2] for i in range(len(str2)-1) if str2[i:i+2].isalpha()]\n",
    "\n",
    "    intersection = 0\n",
    "    union = 0\n",
    "\n",
    "    for i in set(a+b):\n",
    "        intersection += min(a.count(i),b.count(i))\n",
    "        union += max(a.count(i),b.count(i))    \n",
    "\n",
    "    if union == 0:\n",
    "        answer = 65536\n",
    "    else:\n",
    "        answer = int(intersection/union*65536)\n",
    "\n",
    "    return answer"
   ]
  }
 ],
 "metadata": {
  "kernelspec": {
   "display_name": "Python 3",
   "language": "python",
   "name": "python3"
  },
  "language_info": {
   "codemirror_mode": {
    "name": "ipython",
    "version": 3
   },
   "file_extension": ".py",
   "mimetype": "text/x-python",
   "name": "python",
   "nbconvert_exporter": "python",
   "pygments_lexer": "ipython3",
   "version": "3.8.8"
  },
  "toc": {
   "base_numbering": 1,
   "nav_menu": {},
   "number_sections": true,
   "sideBar": true,
   "skip_h1_title": false,
   "title_cell": "Table of Contents",
   "title_sidebar": "Contents",
   "toc_cell": false,
   "toc_position": {},
   "toc_section_display": true,
   "toc_window_display": false
  }
 },
 "nbformat": 4,
 "nbformat_minor": 4
}
