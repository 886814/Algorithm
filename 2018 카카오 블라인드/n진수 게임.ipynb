{
 "cells": [
  {
   "cell_type": "code",
   "execution_count": null,
   "metadata": {},
   "outputs": [],
   "source": [
    "import string\n",
    "tmp = string.digits+string.ascii_lowercase\n",
    "\n",
    "def convert(num, base) :\n",
    "    q, r = divmod(num, base)\n",
    "    if q == 0 :\n",
    "        return tmp[r] \n",
    "    else :\n",
    "        return convert(q, base) + tmp[r]\n",
    "\n",
    "def solution(n, t, m, p):\n",
    "    a = \"\".join([convert(x,n).upper() if x != 0 else str(x) for x in range(t*m+1)])\n",
    "    answer = \"\"\n",
    "    s = p-1\n",
    "\n",
    "    for i in range(t):\n",
    "        answer += a[s]\n",
    "        s += m\n",
    "    return answer"
   ]
  }
 ],
 "metadata": {
  "kernelspec": {
   "display_name": "Python 3",
   "language": "python",
   "name": "python3"
  },
  "language_info": {
   "codemirror_mode": {
    "name": "ipython",
    "version": 3
   },
   "file_extension": ".py",
   "mimetype": "text/x-python",
   "name": "python",
   "nbconvert_exporter": "python",
   "pygments_lexer": "ipython3",
   "version": "3.8.8"
  },
  "toc": {
   "base_numbering": 1,
   "nav_menu": {},
   "number_sections": true,
   "sideBar": true,
   "skip_h1_title": false,
   "title_cell": "Table of Contents",
   "title_sidebar": "Contents",
   "toc_cell": false,
   "toc_position": {},
   "toc_section_display": true,
   "toc_window_display": false
  }
 },
 "nbformat": 4,
 "nbformat_minor": 4
}
