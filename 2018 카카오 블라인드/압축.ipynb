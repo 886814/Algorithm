{
 "cells": [
  {
   "cell_type": "code",
   "execution_count": null,
   "metadata": {},
   "outputs": [],
   "source": [
    "def solution(msg):\n",
    "    answer = []\n",
    "    a = [chr(i) for i in range(ord('A'), ord('Z')+1)]\n",
    "\n",
    "    l = 0\n",
    "    s = 1\n",
    "    while True:\n",
    "        temp = msg[l:l+s]\n",
    "        if temp in a and l+s == len(msg):\n",
    "            answer.append(a.index(temp)+1)\n",
    "            break\n",
    "        if temp in a:\n",
    "            s += 1\n",
    "        else:\n",
    "            a.append(temp)\n",
    "            answer.append(a.index(temp[:-1])+1)\n",
    "            l = l+s-1\n",
    "            s = 1\n",
    "    return answer"
   ]
  }
 ],
 "metadata": {
  "kernelspec": {
   "display_name": "Python 3",
   "language": "python",
   "name": "python3"
  },
  "language_info": {
   "codemirror_mode": {
    "name": "ipython",
    "version": 3
   },
   "file_extension": ".py",
   "mimetype": "text/x-python",
   "name": "python",
   "nbconvert_exporter": "python",
   "pygments_lexer": "ipython3",
   "version": "3.8.3"
  },
  "toc": {
   "base_numbering": 1,
   "nav_menu": {},
   "number_sections": true,
   "sideBar": true,
   "skip_h1_title": false,
   "title_cell": "Table of Contents",
   "title_sidebar": "Contents",
   "toc_cell": false,
   "toc_position": {},
   "toc_section_display": true,
   "toc_window_display": false
  }
 },
 "nbformat": 4,
 "nbformat_minor": 4
}
