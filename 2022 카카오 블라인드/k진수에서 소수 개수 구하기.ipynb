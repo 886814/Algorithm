{
 "cells": [
  {
   "cell_type": "code",
   "execution_count": null,
   "metadata": {},
   "outputs": [],
   "source": [
    "import math\n",
    "\n",
    "def change(n, q):\n",
    "    rev_base = ''\n",
    "\n",
    "    while n > 0:\n",
    "        n, mod = divmod(n, q)\n",
    "        rev_base += str(mod)\n",
    "\n",
    "    return rev_base[::-1]\n",
    "\n",
    "def is_prime_number(x):\n",
    "\n",
    "    for i in range(2, int(math.sqrt(x))+1):\n",
    "        if x % i == 0:\n",
    "            return False\n",
    "    return True\n",
    "\n",
    "def solution(n, k):\n",
    "    result = 0\n",
    "    num = change(n,k)\n",
    "\n",
    "    p_list = [int(x) for x in num.split(\"0\") if len(x) != 0]\n",
    "    for p in p_list:\n",
    "        if p != 1 and is_prime_number(p):\n",
    "            result += 1\n",
    "    return result"
   ]
  }
 ],
 "metadata": {
  "kernelspec": {
   "display_name": "Python 3 (ipykernel)",
   "language": "python",
   "name": "python3"
  },
  "language_info": {
   "codemirror_mode": {
    "name": "ipython",
    "version": 3
   },
   "file_extension": ".py",
   "mimetype": "text/x-python",
   "name": "python",
   "nbconvert_exporter": "python",
   "pygments_lexer": "ipython3",
   "version": "3.9.11"
  },
  "toc": {
   "base_numbering": 1,
   "nav_menu": {},
   "number_sections": true,
   "sideBar": true,
   "skip_h1_title": false,
   "title_cell": "Table of Contents",
   "title_sidebar": "Contents",
   "toc_cell": false,
   "toc_position": {},
   "toc_section_display": true,
   "toc_window_display": false
  }
 },
 "nbformat": 4,
 "nbformat_minor": 4
}
