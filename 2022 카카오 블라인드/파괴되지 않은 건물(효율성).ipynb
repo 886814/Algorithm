{
 "cells": [
  {
   "cell_type": "code",
   "execution_count": null,
   "metadata": {},
   "outputs": [],
   "source": [
    "def solution(board, skill):\n",
    "    answer = 0\n",
    "    tmp = [[0] * (len(board[0]) + 1) for _ in range(len(board) + 1)] # 누적합 기록을 위한 배열\n",
    "    for type, r1, c1, r2, c2, degree in skill:\n",
    "        \n",
    "        tmp[r1][c1] += degree if type == 2 else -degree\n",
    "        tmp[r1][c2 + 1] += -degree if type == 2 else degree\n",
    "        tmp[r2 + 1][c1] += -degree if type == 2 else degree\n",
    "        tmp[r2 + 1][c2 + 1] += degree if type == 2 else -degree\n",
    "    \n",
    "    # 행 기준 누적합\n",
    "    for i in range(len(tmp) - 1):\n",
    "        for j in range(len(tmp[0]) - 1):\n",
    "            tmp[i][j + 1] += tmp[i][j]\n",
    "    \n",
    "    # 열 기준 누적합\n",
    "    for j in range(len(tmp[0]) - 1):\n",
    "        for i in range(len(tmp) - 1):\n",
    "            tmp[i + 1][j] += tmp[i][j]\n",
    "    \n",
    "    # 기존 배열과 합함\n",
    "    for i in range(len(board)):\n",
    "        for j in range(len(board[i])):\n",
    "            board[i][j] += tmp[i][j]\n",
    "            # board에 값이 1이상인 경우 answer++\n",
    "            if board[i][j] > 0: answer += 1\n",
    "    \n",
    "    return answer"
   ]
  }
 ],
 "metadata": {
  "kernelspec": {
   "display_name": "Python 3",
   "language": "python",
   "name": "python3"
  },
  "language_info": {
   "codemirror_mode": {
    "name": "ipython",
    "version": 3
   },
   "file_extension": ".py",
   "mimetype": "text/x-python",
   "name": "python",
   "nbconvert_exporter": "python",
   "pygments_lexer": "ipython3",
   "version": "3.8.8"
  },
  "toc": {
   "base_numbering": 1,
   "nav_menu": {},
   "number_sections": true,
   "sideBar": true,
   "skip_h1_title": false,
   "title_cell": "Table of Contents",
   "title_sidebar": "Contents",
   "toc_cell": false,
   "toc_position": {},
   "toc_section_display": true,
   "toc_window_display": false
  }
 },
 "nbformat": 4,
 "nbformat_minor": 4
}
