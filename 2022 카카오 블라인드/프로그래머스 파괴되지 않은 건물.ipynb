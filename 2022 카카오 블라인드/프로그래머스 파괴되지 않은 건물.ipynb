{
 "cells": [
  {
   "cell_type": "code",
   "execution_count": null,
   "metadata": {},
   "outputs": [],
   "source": [
    "# 6번\n",
    "# 정확성만 맞음\n",
    "from collections import deque\n",
    "def solution(board, skill):\n",
    "\n",
    "    n = len(board)\n",
    "    m = len(board[1])\n",
    "    q = deque([])\n",
    "    dx = [1,0,-1,0]\n",
    "    dy = [0,-1,0,1]\n",
    "    answer = 0\n",
    "\n",
    "    for s in skill:\n",
    "        visited = [[0]*m for _ in range(n)]\n",
    "        type_,r1,c1,r2,c2,degree = s\n",
    "        q.append((r1,c1))\n",
    "        while q:\n",
    "            temp = q.popleft()\n",
    "            for k in range(4):\n",
    "                x = temp[0] + dx[k]\n",
    "                y = temp[1] + dy[k]\n",
    "                if r1 <= x <= r2 and c1 <= y <= c2 and visited[x][y] == 0:\n",
    "                    visited[x][y] = 1\n",
    "                    q.append((x,y))\n",
    "                    if type_ == 1:\n",
    "                        board[x][y] -= degree\n",
    "                    else:\n",
    "                        board[x][y] += degree\n",
    "\n",
    "    for i in range(n):\n",
    "        for j in range(m):\n",
    "            if board[i][j] > 0:\n",
    "                answer += 1\n",
    "    return answer"
   ]
  }
 ],
 "metadata": {
  "kernelspec": {
   "display_name": "Python 3",
   "language": "python",
   "name": "python3"
  },
  "language_info": {
   "codemirror_mode": {
    "name": "ipython",
    "version": 3
   },
   "file_extension": ".py",
   "mimetype": "text/x-python",
   "name": "python",
   "nbconvert_exporter": "python",
   "pygments_lexer": "ipython3",
   "version": "3.8.8"
  },
  "toc": {
   "base_numbering": 1,
   "nav_menu": {},
   "number_sections": true,
   "sideBar": true,
   "skip_h1_title": false,
   "title_cell": "Table of Contents",
   "title_sidebar": "Contents",
   "toc_cell": false,
   "toc_position": {},
   "toc_section_display": true,
   "toc_window_display": false
  }
 },
 "nbformat": 4,
 "nbformat_minor": 4
}
