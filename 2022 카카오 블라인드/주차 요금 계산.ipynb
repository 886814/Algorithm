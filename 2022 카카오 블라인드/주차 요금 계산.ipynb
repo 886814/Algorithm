{
 "cells": [
  {
   "cell_type": "code",
   "execution_count": null,
   "metadata": {},
   "outputs": [],
   "source": [
    "import math\n",
    "\n",
    "def change(t):\n",
    "    tt,mi = t.split(\":\")\n",
    "    tmp = int(tt)*60 + int(mi)\n",
    "    return tmp\n",
    "\n",
    "def solution(fees, records):\n",
    "\n",
    "    dic1 = {}\n",
    "    result = []\n",
    "    aa = []\n",
    "\n",
    "    for record in records:\n",
    "        time,num,condi = record.split()\n",
    "        dic1[num] = []\n",
    "\n",
    "    for record in records:\n",
    "        time,num,condi = record.split()\n",
    "        dic1[num].append((time,condi))\n",
    "\n",
    "    for i in sorted(list(dic1.items())):\n",
    "        temp = 0\n",
    "        if len(i[1]) % 2 == 0:\n",
    "            for j in range(0,len(i[1]),2):\n",
    "                temp += change(i[1][j+1][0]) - change(i[1][j][0])\n",
    "            aa.append(temp)\n",
    "        else:\n",
    "            for k in range(0,len(i[1][:-1]),2):\n",
    "                temp += change(i[1][k+1][0]) - change(i[1][k][0])\n",
    "            temp += 1439 - change(i[1][-1][0])\n",
    "            aa.append(temp)\n",
    "\n",
    "    for a in aa:\n",
    "        if a <= fees[0]:\n",
    "            result.append(fees[1])\n",
    "        else:\n",
    "            temp_ = fees[1] + math.ceil((a-fees[0])/fees[2]) * fees[3]\n",
    "            result.append(temp_)\n",
    "    return result"
   ]
  }
 ],
 "metadata": {
  "kernelspec": {
   "display_name": "Python 3 (ipykernel)",
   "language": "python",
   "name": "python3"
  },
  "language_info": {
   "codemirror_mode": {
    "name": "ipython",
    "version": 3
   },
   "file_extension": ".py",
   "mimetype": "text/x-python",
   "name": "python",
   "nbconvert_exporter": "python",
   "pygments_lexer": "ipython3",
   "version": "3.9.11"
  },
  "toc": {
   "base_numbering": 1,
   "nav_menu": {},
   "number_sections": true,
   "sideBar": true,
   "skip_h1_title": false,
   "title_cell": "Table of Contents",
   "title_sidebar": "Contents",
   "toc_cell": false,
   "toc_position": {},
   "toc_section_display": true,
   "toc_window_display": false
  }
 },
 "nbformat": 4,
 "nbformat_minor": 4
}
