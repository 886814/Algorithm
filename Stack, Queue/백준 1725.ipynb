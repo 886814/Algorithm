{
 "cells": [
  {
   "cell_type": "code",
   "execution_count": null,
   "metadata": {},
   "outputs": [],
   "source": [
    "import sys\n",
    "input=sys.stdin.readline\n",
    "n=int(input())\n",
    "graph=[]\n",
    "result=0\n",
    "cursor=0\n",
    "a=0\n",
    "for _ in range(n):\n",
    "    graph.append(int(input()))\n",
    "graph.append(0)\n",
    "stack=[(0,graph[0])]\n",
    "for i in range(1,n+1):\n",
    "    cursor=i\n",
    "    while stack and stack[-1][1]>graph[i]:\n",
    "        cursor,temp=stack.pop()\n",
    "        result=max(result,temp*(i-cursor))\n",
    "    stack.append((cursor,graph[i]))\n",
    "\n",
    "print(result)"
   ]
  }
 ],
 "metadata": {
  "kernelspec": {
   "display_name": "Python 3",
   "language": "python",
   "name": "python3"
  },
  "language_info": {
   "codemirror_mode": {
    "name": "ipython",
    "version": 3
   },
   "file_extension": ".py",
   "mimetype": "text/x-python",
   "name": "python",
   "nbconvert_exporter": "python",
   "pygments_lexer": "ipython3",
   "version": "3.8.8"
  },
  "toc": {
   "base_numbering": 1,
   "nav_menu": {},
   "number_sections": true,
   "sideBar": true,
   "skip_h1_title": false,
   "title_cell": "Table of Contents",
   "title_sidebar": "Contents",
   "toc_cell": false,
   "toc_position": {},
   "toc_section_display": true,
   "toc_window_display": false
  }
 },
 "nbformat": 4,
 "nbformat_minor": 4
}
