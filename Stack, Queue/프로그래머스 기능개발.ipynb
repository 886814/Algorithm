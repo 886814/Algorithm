{
 "cells": [
  {
   "cell_type": "code",
   "execution_count": null,
   "metadata": {},
   "outputs": [],
   "source": [
    "def solution(progresses, speeds):\n",
    "    max_duration = -(-(100 - progresses[0]) // speeds[0])\n",
    "    cnt = 0\n",
    "    answer = []\n",
    "    \n",
    "    for progress,speed in zip(progresses,speeds):\n",
    "        duration = -(-(100 - progress) // speed)\n",
    "        if max_duration < duration :\n",
    "            answer.append(cnt)\n",
    "            cnt = 0\n",
    "            max_duration = duration\n",
    "        cnt += 1\n",
    "\n",
    "    if cnt > 0:\n",
    "        answer.append(cnt)\n",
    "\n",
    "    return answer"
   ]
  }
 ],
 "metadata": {
  "kernelspec": {
   "display_name": "Python 3",
   "language": "python",
   "name": "python3"
  },
  "language_info": {
   "codemirror_mode": {
    "name": "ipython",
    "version": 3
   },
   "file_extension": ".py",
   "mimetype": "text/x-python",
   "name": "python",
   "nbconvert_exporter": "python",
   "pygments_lexer": "ipython3",
   "version": "3.8.8"
  },
  "toc": {
   "base_numbering": 1,
   "nav_menu": {},
   "number_sections": true,
   "sideBar": true,
   "skip_h1_title": false,
   "title_cell": "Table of Contents",
   "title_sidebar": "Contents",
   "toc_cell": false,
   "toc_position": {},
   "toc_section_display": true,
   "toc_window_display": false
  }
 },
 "nbformat": 4,
 "nbformat_minor": 4
}
