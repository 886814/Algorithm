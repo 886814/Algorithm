{
 "cells": [
  {
   "cell_type": "code",
   "execution_count": null,
   "metadata": {},
   "outputs": [],
   "source": [
    "from collections import deque\n",
    "def solution(bridge_length, weight, truck_weights):\n",
    "\n",
    "    truck_weights = deque(truck_weights)\n",
    "    time = 0\n",
    "    ing_trucks = deque([0] * bridge_length)\n",
    "\n",
    "    while ing_trucks:\n",
    "        time += 1\n",
    "        ing_trucks.popleft()\n",
    "        if truck_weights:\n",
    "            if sum(ing_trucks) + truck_weights[0] <= weight:\n",
    "                ing_trucks.append(truck_weights.popleft())\n",
    "            else:\n",
    "                ing_trucks.append(0)\n",
    "    \n",
    "    return time"
   ]
  }
 ],
 "metadata": {
  "kernelspec": {
   "display_name": "Python 3",
   "language": "python",
   "name": "python3"
  },
  "language_info": {
   "codemirror_mode": {
    "name": "ipython",
    "version": 3
   },
   "file_extension": ".py",
   "mimetype": "text/x-python",
   "name": "python",
   "nbconvert_exporter": "python",
   "pygments_lexer": "ipython3",
   "version": "3.8.8"
  },
  "toc": {
   "base_numbering": 1,
   "nav_menu": {},
   "number_sections": true,
   "sideBar": true,
   "skip_h1_title": false,
   "title_cell": "Table of Contents",
   "title_sidebar": "Contents",
   "toc_cell": false,
   "toc_position": {},
   "toc_section_display": true,
   "toc_window_display": false
  }
 },
 "nbformat": 4,
 "nbformat_minor": 4
}
