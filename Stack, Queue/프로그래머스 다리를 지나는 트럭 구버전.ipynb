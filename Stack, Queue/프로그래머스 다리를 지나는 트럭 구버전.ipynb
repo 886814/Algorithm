{
 "cells": [
  {
   "cell_type": "code",
   "execution_count": null,
   "id": "f04d0fce",
   "metadata": {},
   "outputs": [],
   "source": [
    "from collections import deque\n",
    "import copy\n",
    "def solution(bridge_length, weight, wait_trucks):\n",
    "\n",
    "    tmp_weight = 0\n",
    "    time = 1\n",
    "    ing_trucks = []\n",
    "    wait_trucks = deque(wait_trucks)\n",
    "    ing_trucks = deque(ing_trucks)\n",
    "\n",
    "    while ing_trucks or wait_trucks:\n",
    "        if len(wait_trucks) !=0 and tmp_weight + wait_trucks[0] <= weight:\n",
    "            tmp = [wait_trucks.popleft(),0]\n",
    "            tmp_weight += tmp[0]\n",
    "            ing_trucks.append(tmp)\n",
    "\n",
    "        for truck in ing_trucks:\n",
    "            truck[1] += 1\n",
    "\n",
    "        tmp_trucks = copy.deepcopy(ing_trucks)\n",
    "        for truck in tmp_trucks:\n",
    "            if truck[1] == bridge_length:\n",
    "                tmp_weight -= ing_trucks.popleft()[0]\n",
    "        time += 1\n",
    "\n",
    "    return time"
   ]
  }
 ],
 "metadata": {
  "kernelspec": {
   "display_name": "Python 3 (ipykernel)",
   "language": "python",
   "name": "python3"
  },
  "language_info": {
   "codemirror_mode": {
    "name": "ipython",
    "version": 3
   },
   "file_extension": ".py",
   "mimetype": "text/x-python",
   "name": "python",
   "nbconvert_exporter": "python",
   "pygments_lexer": "ipython3",
   "version": "3.9.7"
  }
 },
 "nbformat": 4,
 "nbformat_minor": 5
}
