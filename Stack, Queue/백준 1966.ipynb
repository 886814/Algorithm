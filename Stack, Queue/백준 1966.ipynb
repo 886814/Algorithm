{
 "cells": [
  {
   "cell_type": "code",
   "execution_count": null,
   "metadata": {},
   "outputs": [],
   "source": [
    "from collections import deque\n",
    "\n",
    "t = int(input())\n",
    "\n",
    "for _ in range(t):\n",
    "    n,location = map(int,input().split())\n",
    "    priorities = list(map(int,input().split()))\n",
    "    cnt = 0\n",
    "    queue = [(priority,idx) for idx,priority in enumerate(priorities)]\n",
    "    queue = deque(queue)\n",
    "    wanted = queue[location][1]\n",
    "    \n",
    "    while True:\n",
    "        j = queue.popleft()\n",
    "        if any(j[0] < q[0] for q in queue):\n",
    "            queue.append(j)\n",
    "        else:\n",
    "            cnt += 1\n",
    "            if j[1] == wanted:\n",
    "                break\n",
    "    print(cnt)"
   ]
  }
 ],
 "metadata": {
  "kernelspec": {
   "display_name": "Python 3",
   "language": "python",
   "name": "python3"
  },
  "language_info": {
   "codemirror_mode": {
    "name": "ipython",
    "version": 3
   },
   "file_extension": ".py",
   "mimetype": "text/x-python",
   "name": "python",
   "nbconvert_exporter": "python",
   "pygments_lexer": "ipython3",
   "version": "3.8.8"
  },
  "toc": {
   "base_numbering": 1,
   "nav_menu": {},
   "number_sections": true,
   "sideBar": true,
   "skip_h1_title": false,
   "title_cell": "Table of Contents",
   "title_sidebar": "Contents",
   "toc_cell": false,
   "toc_position": {},
   "toc_section_display": true,
   "toc_window_display": false
  }
 },
 "nbformat": 4,
 "nbformat_minor": 4
}
