{
 "cells": [
  {
   "cell_type": "code",
   "execution_count": null,
   "metadata": {},
   "outputs": [],
   "source": [
    "from collections import deque\n",
    "def solution(cacheSize, cities):\n",
    "\n",
    "    stack = deque([0]*cacheSize)\n",
    "    hit = 0\n",
    "\n",
    "    if cacheSize == 0:\n",
    "        hit = 0\n",
    "    else:\n",
    "        for i in cities:\n",
    "            i = i.upper()\n",
    "            if i in stack:\n",
    "                stack.remove(i)\n",
    "                stack.append(i)\n",
    "                hit+=1\n",
    "            else:\n",
    "                stack.append(i)\n",
    "                stack.popleft()\n",
    "\n",
    "    miss = len(cities) - hit\n",
    "\n",
    "    answer = hit + 5*miss\n",
    "    return answer"
   ]
  }
 ],
 "metadata": {
  "kernelspec": {
   "display_name": "Python 3",
   "language": "python",
   "name": "python3"
  },
  "language_info": {
   "codemirror_mode": {
    "name": "ipython",
    "version": 3
   },
   "file_extension": ".py",
   "mimetype": "text/x-python",
   "name": "python",
   "nbconvert_exporter": "python",
   "pygments_lexer": "ipython3",
   "version": "3.8.3"
  },
  "toc": {
   "base_numbering": 1,
   "nav_menu": {},
   "number_sections": true,
   "sideBar": true,
   "skip_h1_title": false,
   "title_cell": "Table of Contents",
   "title_sidebar": "Contents",
   "toc_cell": false,
   "toc_position": {},
   "toc_section_display": true,
   "toc_window_display": false
  }
 },
 "nbformat": 4,
 "nbformat_minor": 4
}
