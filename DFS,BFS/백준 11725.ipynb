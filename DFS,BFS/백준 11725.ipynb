{
 "cells": [
  {
   "cell_type": "code",
   "execution_count": null,
   "id": "f61f0182",
   "metadata": {},
   "outputs": [],
   "source": [
    "from collections import deque\n",
    "\n",
    "n = int(input())\n",
    "dic = {i+1:[] for i in range(n)}\n",
    "visited = [False] * (n+1)\n",
    "q = deque([1])\n",
    "parent = {i+1:0 for i in range(n)}\n",
    "\n",
    "for i in range(1, n):\n",
    "    x, y = map(int,input().split())\n",
    "    dic[x].append(y)\n",
    "    dic[y].append(x)\n",
    "\n",
    "while q:\n",
    "    temp = q.popleft()\n",
    "    visited[temp] = True\n",
    "    for i in range(len(dic[temp])):\n",
    "        num = dic[temp][i]\n",
    "        if not visited[num]:\n",
    "            q.append(num)\n",
    "            parent[num] = temp\n",
    "\n",
    "for i in range(2,n+1):\n",
    "    print(parent[i])"
   ]
  }
 ],
 "metadata": {
  "kernelspec": {
   "display_name": "Python 3 (ipykernel)",
   "language": "python",
   "name": "python3"
  },
  "language_info": {
   "codemirror_mode": {
    "name": "ipython",
    "version": 3
   },
   "file_extension": ".py",
   "mimetype": "text/x-python",
   "name": "python",
   "nbconvert_exporter": "python",
   "pygments_lexer": "ipython3",
   "version": "3.9.7"
  }
 },
 "nbformat": 4,
 "nbformat_minor": 5
}
