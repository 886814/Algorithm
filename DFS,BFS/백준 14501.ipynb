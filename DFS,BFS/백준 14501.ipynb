{
 "cells": [
  {
   "cell_type": "code",
   "execution_count": null,
   "metadata": {},
   "outputs": [],
   "source": [
    "n = int(input())\n",
    "T = []\n",
    "P = []\n",
    "res = -2147000000\n",
    "\n",
    "def DFS(L,tot):\n",
    "    global res\n",
    "    if L == n+1:\n",
    "        if tot > res:\n",
    "            res = tot\n",
    "    else:\n",
    "        if L + T[L] <= n+1:\n",
    "            DFS(L + T[L],tot + P[L])\n",
    "        DFS(L+1,tot)\n",
    "\n",
    "for i in range(n):\n",
    "    t,p = map(int,input().split())\n",
    "    T.append(t)\n",
    "    P.append(p)\n",
    "    \n",
    "T.insert(0,0)\n",
    "P.insert(0,0)\n",
    "DFS(1,0)\n",
    "print(res)"
   ]
  }
 ],
 "metadata": {
  "kernelspec": {
   "display_name": "Python 3",
   "language": "python",
   "name": "python3"
  },
  "language_info": {
   "codemirror_mode": {
    "name": "ipython",
    "version": 3
   },
   "file_extension": ".py",
   "mimetype": "text/x-python",
   "name": "python",
   "nbconvert_exporter": "python",
   "pygments_lexer": "ipython3",
   "version": "3.8.3"
  },
  "toc": {
   "base_numbering": 1,
   "nav_menu": {},
   "number_sections": true,
   "sideBar": true,
   "skip_h1_title": false,
   "title_cell": "Table of Contents",
   "title_sidebar": "Contents",
   "toc_cell": false,
   "toc_position": {},
   "toc_section_display": true,
   "toc_window_display": false
  }
 },
 "nbformat": 4,
 "nbformat_minor": 4
}
