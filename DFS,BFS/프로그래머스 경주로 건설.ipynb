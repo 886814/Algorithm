{
 "cells": [
  {
   "cell_type": "code",
   "execution_count": null,
   "metadata": {},
   "outputs": [],
   "source": [
    "from collections import deque\n",
    "\n",
    "def solution(a):\n",
    "    queue = [(0,0,0,-1)]\n",
    "    queue = deque(queue)\n",
    "    n = len(a)\n",
    "    dx = [-1,0,1,0]\n",
    "    dy = [0,1,0,-1]\n",
    "    dis=[[2147000]*n for _ in range(n)]\n",
    "    dis[0][0] = 0\n",
    "\n",
    "    while queue:\n",
    "        ax,ay,cost,d = queue.popleft()\n",
    "        for i in range(4):\n",
    "            x = ax + dx[i]\n",
    "            y = ay + dy[i]\n",
    "            if 0<=x<n and 0<=y<n and a[x][y] == 0:\n",
    "                if d == i or d == -1:\n",
    "                    if dis[x][y] >= cost + 100:\n",
    "                        dis[x][y] = cost + 100\n",
    "                        queue.append((x,y,cost + 100,i))\n",
    "                else:\n",
    "                    if dis[x][y] >= cost + 600:\n",
    "                        dis[x][y] = cost + 600\n",
    "                        queue.append((x,y,cost + 600,i))\n",
    "\n",
    "    return dis[n-1][n-1]"
   ]
  }
 ],
 "metadata": {
  "kernelspec": {
   "display_name": "Python 3",
   "language": "python",
   "name": "python3"
  },
  "language_info": {
   "codemirror_mode": {
    "name": "ipython",
    "version": 3
   },
   "file_extension": ".py",
   "mimetype": "text/x-python",
   "name": "python",
   "nbconvert_exporter": "python",
   "pygments_lexer": "ipython3",
   "version": "3.8.8"
  },
  "toc": {
   "base_numbering": 1,
   "nav_menu": {},
   "number_sections": true,
   "sideBar": true,
   "skip_h1_title": false,
   "title_cell": "Table of Contents",
   "title_sidebar": "Contents",
   "toc_cell": false,
   "toc_position": {},
   "toc_section_display": true,
   "toc_window_display": false
  }
 },
 "nbformat": 4,
 "nbformat_minor": 4
}
