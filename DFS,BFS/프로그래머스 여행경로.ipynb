{
 "cells": [
  {
   "cell_type": "code",
   "execution_count": null,
   "metadata": {},
   "outputs": [],
   "source": [
    "def dfs(start, tickets, result):\n",
    "    if len(tickets) == 0:\n",
    "        return result\n",
    "    for i,ticket in enumerate(tickets):\n",
    "        if start == ticket[0]:\n",
    "            end = ticket[1]\n",
    "            tickets.pop(i)\n",
    "            result.append(end)\n",
    "            temp = dfs(end,tickets, result)\n",
    "            if len(temp)!=0:\n",
    "                return temp\n",
    "            result.pop(len(result)-1)\n",
    "            tickets.insert(i,[start,end])\n",
    "\n",
    "    return []        \n",
    "\n",
    "def solution(tickets):\n",
    "    tickets.sort()\n",
    "    result = []\n",
    "    start = \"ICN\"\n",
    "    result.append(start)\n",
    "    answer = dfs(start, tickets, result)\n",
    "\n",
    "    return answer"
   ]
  }
 ],
 "metadata": {
  "kernelspec": {
   "display_name": "Python 3",
   "language": "python",
   "name": "python3"
  },
  "language_info": {
   "codemirror_mode": {
    "name": "ipython",
    "version": 3
   },
   "file_extension": ".py",
   "mimetype": "text/x-python",
   "name": "python",
   "nbconvert_exporter": "python",
   "pygments_lexer": "ipython3",
   "version": "3.8.8"
  },
  "toc": {
   "base_numbering": 1,
   "nav_menu": {},
   "number_sections": true,
   "sideBar": true,
   "skip_h1_title": false,
   "title_cell": "Table of Contents",
   "title_sidebar": "Contents",
   "toc_cell": false,
   "toc_position": {},
   "toc_section_display": true,
   "toc_window_display": false
  }
 },
 "nbformat": 4,
 "nbformat_minor": 4
}
