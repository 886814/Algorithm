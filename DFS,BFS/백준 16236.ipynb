{
 "cells": [
  {
   "cell_type": "code",
   "execution_count": null,
   "id": "f04d0fce",
   "metadata": {},
   "outputs": [],
   "source": [
    "from collections import deque\n",
    "n = int(input())\n",
    "a = [list(map(int,input().split())) for _ in range(n)]  \n",
    "\n",
    "dx = [1,0,-1,0]\n",
    "dy = [0,-1,0,1]\n",
    "\n",
    "q = deque([])\n",
    "eat = 0\n",
    "ans = 0\n",
    "size = 2\n",
    "flag = False\n",
    "visited = set()\n",
    "\n",
    "for i in range(n):\n",
    "    for j in range(n):\n",
    "        if a[i][j] == 9:\n",
    "            q.append((i,j,0))\n",
    "            a[i][j] = 0\n",
    "            visited.add((i,j))\n",
    "\n",
    "while q:\n",
    "    q = deque(sorted(q))\n",
    "    for _ in range(len(q)):\n",
    "        ax, ay, dis = q.popleft()\n",
    "        if 0 < a[ax][ay] < size: \n",
    "            q = deque([])\n",
    "            ans += dis\n",
    "            dis = 0\n",
    "            a[ax][ay] = 0\n",
    "            visited = set([(ax,ay)])\n",
    "            flag = True\n",
    "            eat += 1\n",
    "            if eat == size:\n",
    "                size += 1\n",
    "                eat = 0\n",
    "                \n",
    "        for k in range(4):\n",
    "            x = ax + dx[k]\n",
    "            y = ay + dy[k]\n",
    "            if  0 <= x <n and 0 <= y < n and (x,y) not in visited and a[x][y] <= size:\n",
    "                q.append((x,y,dis+1))\n",
    "                visited.add((x,y))\n",
    "                \n",
    "        if flag:\n",
    "            flag = False\n",
    "            break      \n",
    "                \n",
    "print(ans)\n",
    "            "
   ]
  }
 ],
 "metadata": {
  "kernelspec": {
   "display_name": "Python 3 (ipykernel)",
   "language": "python",
   "name": "python3"
  },
  "language_info": {
   "codemirror_mode": {
    "name": "ipython",
    "version": 3
   },
   "file_extension": ".py",
   "mimetype": "text/x-python",
   "name": "python",
   "nbconvert_exporter": "python",
   "pygments_lexer": "ipython3",
   "version": "3.9.7"
  }
 },
 "nbformat": 4,
 "nbformat_minor": 5
}
