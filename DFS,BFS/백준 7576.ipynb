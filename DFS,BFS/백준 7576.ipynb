{
 "cells": [
  {
   "cell_type": "code",
   "execution_count": null,
   "metadata": {},
   "outputs": [],
   "source": [
    "from collections import deque\n",
    "m,n = map(int,input().split())\n",
    "a = [list(map(int,input().split())) for _ in range(n)]\n",
    "cnt = 0\n",
    "L = 0\n",
    "q = []\n",
    "q = deque(q)\n",
    "dx = [-1,0,1,0]\n",
    "dy = [0,1,0,-1]\n",
    "\n",
    "# 익은 곳 좌표 추출\n",
    "for i in range(n):\n",
    "    for j in range(m):\n",
    "        if a[i][j] == 1:\n",
    "            q.append((i,j))\n",
    "# 만약 안익은 토마토가 없으면\n",
    "for i in range(n):\n",
    "    for j in range(m):\n",
    "        if a[i][j]==0:\n",
    "            cnt = 1\n",
    "\n",
    "else:\n",
    "    while q:\n",
    "        for i in range(len(q)):\n",
    "            tmp = q.popleft()\n",
    "            for j in range(4):\n",
    "                x = tmp[0]+dx[j]\n",
    "                y = tmp[1]+dy[j]\n",
    "                if 0<=x<n and 0<=y<m and a[x][y]==0:\n",
    "                    a[x][y]=1\n",
    "                    q.append((x,y))\n",
    "        L+=1 \n",
    "\n",
    "for i in a:\n",
    "    if 0 in i:\n",
    "        print(-1)\n",
    "        break\n",
    "else:\n",
    "    if cnt == 0:\n",
    "        print(0)\n",
    "    else:\n",
    "        print(L-1)"
   ]
  }
 ],
 "metadata": {
  "kernelspec": {
   "display_name": "Python 3",
   "language": "python",
   "name": "python3"
  },
  "language_info": {
   "codemirror_mode": {
    "name": "ipython",
    "version": 3
   },
   "file_extension": ".py",
   "mimetype": "text/x-python",
   "name": "python",
   "nbconvert_exporter": "python",
   "pygments_lexer": "ipython3",
   "version": "3.8.3"
  },
  "toc": {
   "base_numbering": 1,
   "nav_menu": {},
   "number_sections": true,
   "sideBar": true,
   "skip_h1_title": false,
   "title_cell": "Table of Contents",
   "title_sidebar": "Contents",
   "toc_cell": false,
   "toc_position": {},
   "toc_section_display": true,
   "toc_window_display": false
  }
 },
 "nbformat": 4,
 "nbformat_minor": 4
}
