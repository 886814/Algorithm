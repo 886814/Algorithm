{
 "cells": [
  {
   "cell_type": "code",
   "execution_count": null,
   "id": "5c5ccbce",
   "metadata": {},
   "outputs": [],
   "source": [
    "import sys\n",
    "sys.setrecursionlimit(10000)\n",
    "\n",
    "m,n = map(int,input().split())\n",
    "a = [list(map(int,input().split())) for _ in range(m)]\n",
    "dp = [[-1]*n for _ in range(m)]\n",
    "\n",
    "dx = [1,0,-1,0]\n",
    "dy = [0,-1,0,1]\n",
    "\n",
    "def DFS(ax,ay):\n",
    "    if dp[ax][ay] != -1:\n",
    "        return dp[ax][ay]\n",
    "    \n",
    "    if ax == m-1 and ay == n-1:\n",
    "        return 1\n",
    "    else:\n",
    "        dp[ax][ay] = 0\n",
    "        for k in range(4):\n",
    "            x = ax + dx[k]\n",
    "            y = ay + dy[k]\n",
    "            if 0 <= x < m and 0 <= y < n:\n",
    "                if a[ax][ay] > a[x][y]:\n",
    "                    dp[ax][ay] += DFS(x,y)\n",
    "    return dp[ax][ay]\n",
    "\n",
    "\n",
    "print(DFS(0,0))            "
   ]
  }
 ],
 "metadata": {
  "kernelspec": {
   "display_name": "Python 3 (ipykernel)",
   "language": "python",
   "name": "python3"
  },
  "language_info": {
   "codemirror_mode": {
    "name": "ipython",
    "version": 3
   },
   "file_extension": ".py",
   "mimetype": "text/x-python",
   "name": "python",
   "nbconvert_exporter": "python",
   "pygments_lexer": "ipython3",
   "version": "3.9.7"
  }
 },
 "nbformat": 4,
 "nbformat_minor": 5
}
