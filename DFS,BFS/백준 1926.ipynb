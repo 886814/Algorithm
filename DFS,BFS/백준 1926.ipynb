{
 "cells": [
  {
   "cell_type": "code",
   "execution_count": null,
   "metadata": {},
   "outputs": [],
   "source": [
    "from collections import deque\n",
    "n,m = map(int,input().split())\n",
    "a = [list(map(int,input().split())) for _ in range(n)]\n",
    "check = [[0]*m for _ in range(n)]\n",
    "q = []\n",
    "q = deque(q)\n",
    "max_pic = 0\n",
    "num_pic = 0\n",
    "dx = [1,0,-1,0]\n",
    "dy = [0,-1,0,1]\n",
    "\n",
    "for i in range(n):\n",
    "    for j in range(m):\n",
    "        if a[i][j] == 1 and check[i][j] == 0:\n",
    "            q.append((i,j))\n",
    "            cnt = 1\n",
    "            check[i][j] = 1\n",
    "            while q:\n",
    "                tmp = q.popleft()\n",
    "                for k in range(4):\n",
    "                    x = tmp[0] + dx[k]\n",
    "                    y = tmp[1] + dy[k]\n",
    "                    if 0<=x<n and 0<=y<m and check[x][y] == 0 and a[x][y] == 1:\n",
    "                        q.append((x,y))\n",
    "                        check[x][y] = 1\n",
    "                        cnt += 1\n",
    "            num_pic += 1\n",
    "            max_pic = max(max_pic,cnt)\n",
    "\n",
    "print(num_pic)            \n",
    "print(max_pic)"
   ]
  }
 ],
 "metadata": {
  "kernelspec": {
   "display_name": "Python 3",
   "language": "python",
   "name": "python3"
  },
  "language_info": {
   "codemirror_mode": {
    "name": "ipython",
    "version": 3
   },
   "file_extension": ".py",
   "mimetype": "text/x-python",
   "name": "python",
   "nbconvert_exporter": "python",
   "pygments_lexer": "ipython3",
   "version": "3.8.3"
  },
  "toc": {
   "base_numbering": 1,
   "nav_menu": {},
   "number_sections": true,
   "sideBar": true,
   "skip_h1_title": false,
   "title_cell": "Table of Contents",
   "title_sidebar": "Contents",
   "toc_cell": false,
   "toc_position": {},
   "toc_section_display": true,
   "toc_window_display": false
  }
 },
 "nbformat": 4,
 "nbformat_minor": 4
}
