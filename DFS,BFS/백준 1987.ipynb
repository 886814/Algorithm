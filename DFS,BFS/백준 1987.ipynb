{
 "cells": [
  {
   "cell_type": "markdown",
   "id": "9c0944d4",
   "metadata": {},
   "source": [
    "### pypy3로 제출해야 통과 많이 느림"
   ]
  },
  {
   "cell_type": "code",
   "execution_count": null,
   "id": "f04d0fce",
   "metadata": {},
   "outputs": [],
   "source": [
    "r, c = map(int,input().split())\n",
    "a = [list(input()) for _ in range(r)]\n",
    "\n",
    "visited = [True] * 26\n",
    "visited[ord(a[0][0])-65] = False\n",
    "dx = [1,0,-1,0]\n",
    "dy = [0,-1,0,1]\n",
    "ans = 0\n",
    "\n",
    "def DFS(ax, ay, cnt):\n",
    "    global ans\n",
    "    ans = max(ans, cnt)\n",
    "    for k in range(4):\n",
    "        x = ax + dx[k]\n",
    "        y = ay + dy[k]\n",
    "        if 0 <= x < r and 0 <= y < c and visited[ord(a[x][y])-65]:\n",
    "            visited[ord(a[x][y])-65] = False\n",
    "            DFS(x, y, cnt+1)\n",
    "            visited[ord(a[x][y])-65] = True\n",
    "            \n",
    "DFS(0,0,1)\n",
    "print(ans)"
   ]
  }
 ],
 "metadata": {
  "kernelspec": {
   "display_name": "Python 3 (ipykernel)",
   "language": "python",
   "name": "python3"
  },
  "language_info": {
   "codemirror_mode": {
    "name": "ipython",
    "version": 3
   },
   "file_extension": ".py",
   "mimetype": "text/x-python",
   "name": "python",
   "nbconvert_exporter": "python",
   "pygments_lexer": "ipython3",
   "version": "3.9.7"
  }
 },
 "nbformat": 4,
 "nbformat_minor": 5
}
