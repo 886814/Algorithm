{
 "cells": [
  {
   "cell_type": "code",
   "execution_count": null,
   "id": "f04d0fce",
   "metadata": {},
   "outputs": [],
   "source": [
    "from collections import deque\n",
    "\n",
    "n,m = map(int,input().split())\n",
    "a = [list(map(int,input().split())) for _ in range(n)]\n",
    "q = deque([])\n",
    "dx = [1,0,-1,0]\n",
    "dy = [0,-1,0,1]\n",
    "cnt = 0\n",
    "cheeses = []\n",
    "\n",
    "while True:\n",
    "    cheese = 0\n",
    "    visited = [[True]*m for _ in range(n)]\n",
    "    q.append([0,0])\n",
    "    visited[0][0] = False\n",
    "    while q:\n",
    "        ax, ay = q.popleft()\n",
    "        for k in range(4):\n",
    "            x = ax + dx[k]\n",
    "            y = ay + dy[k]\n",
    "            if 0 <= x < n and 0 <= y < m and visited[x][y]:\n",
    "                if a[x][y] == 0:\n",
    "                    q.append((x,y))\n",
    "                    visited[x][y] = False\n",
    "                elif a[x][y] == 1:\n",
    "                    visited[x][y] = False\n",
    "                    a[x][y] = 0\n",
    "                    cheese += 1\n",
    "    \n",
    "    if cheese == 0:\n",
    "        break\n",
    "    cheeses.append(cheese)\n",
    "    cnt += 1\n",
    "    \n",
    "print(cnt)\n",
    "print(cheeses[-1])"
   ]
  }
 ],
 "metadata": {
  "kernelspec": {
   "display_name": "Python 3 (ipykernel)",
   "language": "python",
   "name": "python3"
  },
  "language_info": {
   "codemirror_mode": {
    "name": "ipython",
    "version": 3
   },
   "file_extension": ".py",
   "mimetype": "text/x-python",
   "name": "python",
   "nbconvert_exporter": "python",
   "pygments_lexer": "ipython3",
   "version": "3.9.7"
  }
 },
 "nbformat": 4,
 "nbformat_minor": 5
}
