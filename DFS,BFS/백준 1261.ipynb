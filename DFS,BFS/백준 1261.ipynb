{
 "cells": [
  {
   "cell_type": "code",
   "execution_count": null,
   "metadata": {},
   "outputs": [],
   "source": [
    "from collections import deque\n",
    "\n",
    "m,n = map(int,input().split())\n",
    "a = [list(map(int,input())) for _ in range(n)]\n",
    "dx = [1,0,-1,0]\n",
    "dy = [0,-1,0,1]\n",
    "dp = [[-1] * m for _ in range(n)]\n",
    "dp[0][0] = 0\n",
    "q = deque([(0,0)])\n",
    "\n",
    "while q:\n",
    "    ax,ay = q.popleft()\n",
    "    for k in range(4):\n",
    "        x = ax + dx[k]\n",
    "        y = ay + dy[k]\n",
    "        if 0 <= x < n and 0 <= y < m and dp[x][y] == -1:\n",
    "            if a[x][y] == 0:\n",
    "                q.appendleft((x,y))\n",
    "                dp[x][y] = dp[ax][ay]\n",
    "            elif a[x][y] == 1:\n",
    "                q.append((x,y))\n",
    "                dp[x][y] = dp[ax][ay] + 1\n",
    "\n",
    "print(dp[n-1][m-1])"
   ]
  }
 ],
 "metadata": {
  "kernelspec": {
   "display_name": "Python 3",
   "language": "python",
   "name": "python3"
  },
  "language_info": {
   "codemirror_mode": {
    "name": "ipython",
    "version": 3
   },
   "file_extension": ".py",
   "mimetype": "text/x-python",
   "name": "python",
   "nbconvert_exporter": "python",
   "pygments_lexer": "ipython3",
   "version": "3.8.8"
  },
  "toc": {
   "base_numbering": 1,
   "nav_menu": {},
   "number_sections": true,
   "sideBar": true,
   "skip_h1_title": false,
   "title_cell": "Table of Contents",
   "title_sidebar": "Contents",
   "toc_cell": false,
   "toc_position": {},
   "toc_section_display": true,
   "toc_window_display": false
  }
 },
 "nbformat": 4,
 "nbformat_minor": 4
}
