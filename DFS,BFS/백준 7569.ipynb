{
 "cells": [
  {
   "cell_type": "code",
   "execution_count": null,
   "metadata": {},
   "outputs": [],
   "source": [
    "from collections import deque\n",
    "import sys\n",
    "\n",
    "dx = [1, -1, 0, 0, 0, 0]\n",
    "dy = [0, 0, 1, -1, 0, 0]\n",
    "dz = [0, 0, 0, 0, 1, -1]\n",
    "\n",
    "def bfs():\n",
    "    while q:\n",
    "        x, y, z = q.popleft()\n",
    "        for i in range(6):\n",
    "            nx = x + dx[i]\n",
    "            ny = y + dy[i]\n",
    "            nz = z + dz[i]\n",
    "            if 0 <= nx < k and 0 <= ny < n and 0 <= nz < m:\n",
    "                if a[nx][ny][nz] == 0 and c[nx][ny][nz] == 0:\n",
    "                    q.append([nx, ny, nz])\n",
    "                    a[nx][ny][nz] = 1\n",
    "                    c[nx][ny][nz] = c[x][y][z] + 1\n",
    "\n",
    "m, n, k = map(int, input().split())\n",
    "a = [[list(map(int, input().split())) for _ in range(n)] for _ in range(k)]\n",
    "c = [[[0]*m for _ in range(n)] for _ in range(k)]\n",
    "q = deque()\n",
    "\n",
    "for i in range(k):\n",
    "    for j in range(n):\n",
    "        for l in range(m):\n",
    "            if a[i][j][l] == 1 and c[i][j][l] == 0:\n",
    "                q.append([i, j, l])\n",
    "                c[i][j][l] = 1\n",
    "\n",
    "bfs()\n",
    "for i in a:\n",
    "    for j in i:\n",
    "        if 0 in j:\n",
    "            print(-1)\n",
    "            sys.exit()\n",
    "ans = 0\n",
    "for i in c:\n",
    "    for j in i:\n",
    "        list_max = max(j)\n",
    "        ans = max(ans, list_max)\n",
    "print(ans-1)"
   ]
  }
 ],
 "metadata": {
  "kernelspec": {
   "display_name": "Python 3",
   "language": "python",
   "name": "python3"
  },
  "language_info": {
   "codemirror_mode": {
    "name": "ipython",
    "version": 3
   },
   "file_extension": ".py",
   "mimetype": "text/x-python",
   "name": "python",
   "nbconvert_exporter": "python",
   "pygments_lexer": "ipython3",
   "version": "3.8.3"
  },
  "toc": {
   "base_numbering": 1,
   "nav_menu": {},
   "number_sections": true,
   "sideBar": true,
   "skip_h1_title": false,
   "title_cell": "Table of Contents",
   "title_sidebar": "Contents",
   "toc_cell": false,
   "toc_position": {},
   "toc_section_display": true,
   "toc_window_display": false
  }
 },
 "nbformat": 4,
 "nbformat_minor": 4
}
