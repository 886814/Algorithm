{
 "cells": [
  {
   "cell_type": "code",
   "execution_count": null,
   "id": "f04d0fce",
   "metadata": {},
   "outputs": [],
   "source": [
    "from collections import deque\n",
    "n, k = map(int,input().split())\n",
    "visited = [0] * 100001\n",
    "dis = [0] * 100001\n",
    "q = deque([n])\n",
    "while q:\n",
    "    now = q.popleft()\n",
    "    if now == k:\n",
    "        break\n",
    "    for next_ in (now+1, now-1, now*2):\n",
    "        if 0 <= next_ <= 100000:\n",
    "            if visited[next_] == 0:\n",
    "                if next_ == now *2:\n",
    "                    q.appendleft(next_)\n",
    "                    dis[next_] = dis[now]\n",
    "                    visited[next_] = 1\n",
    "                else:\n",
    "                    q.append(next_)\n",
    "                    dis[next_] = dis[now] + 1\n",
    "                    visited[next_] = 1\n",
    "print(dis[k])"
   ]
  }
 ],
 "metadata": {
  "kernelspec": {
   "display_name": "Python 3 (ipykernel)",
   "language": "python",
   "name": "python3"
  },
  "language_info": {
   "codemirror_mode": {
    "name": "ipython",
    "version": 3
   },
   "file_extension": ".py",
   "mimetype": "text/x-python",
   "name": "python",
   "nbconvert_exporter": "python",
   "pygments_lexer": "ipython3",
   "version": "3.9.7"
  }
 },
 "nbformat": 4,
 "nbformat_minor": 5
}
