{
 "cells": [
  {
   "cell_type": "code",
   "execution_count": null,
   "id": "f04d0fce",
   "metadata": {},
   "outputs": [],
   "source": [
    "from collections import deque\n",
    "n,m = map(int,input().split())\n",
    "a = [list(map(int,input().split())) for _ in range(n)]\n",
    "dx = [0,1,0,-1]\n",
    "dy = [1,0,-1,0]\n",
    "q = deque([])\n",
    "\n",
    "num = 0\n",
    "while True:\n",
    "    # 빙산 주변 확인\n",
    "    check = []\n",
    "    for i in range(n):\n",
    "        for j in range(m):\n",
    "            if a[i][j] != 0:\n",
    "                cnt = 0\n",
    "                for s in range(4):\n",
    "                    x = i + dx[s]\n",
    "                    y = j + dy[s]\n",
    "                    if 0 <= x < n and 0 <= y <m and a[x][y] == 0:\n",
    "                        cnt += 1\n",
    "                check.append((i,j,cnt))\n",
    "    \n",
    "    # 빙산 높이 줄이기\n",
    "    for t in check:\n",
    "        i,j,c = t\n",
    "        if a[i][j] - c <= 0:\n",
    "            a[i][j] = 0\n",
    "        else:\n",
    "            a[i][j] -= c\n",
    "    \n",
    "    # BFS로 덩이수 확인\n",
    "    visited = [[False] * m for _ in range(n)]\n",
    "    cnt_ = 0\n",
    "    for i in range(n):\n",
    "        for j in range(m):\n",
    "            if a[i][j] != 0 and not visited[i][j]:\n",
    "                visited[i][j] = True\n",
    "                q.append((i,j))\n",
    "                while q:\n",
    "                    x_, y_ = q.popleft()\n",
    "                    for s in range(4):\n",
    "                        x = x_ + dx[s]\n",
    "                        y = y_ + dy[s]\n",
    "                        if 0 <= x < n and 0 <= y <m and a[x][y] != 0 and not visited[x][y]:\n",
    "                            visited[x][y] = True\n",
    "                            q.append((x,y))\n",
    "                cnt_ += 1\n",
    "    \n",
    "    num += 1\n",
    "    if cnt_ >= 2:\n",
    "        print(num)\n",
    "        break\n",
    "    elif cnt_ == 0:\n",
    "        print(0)\n",
    "        break"
   ]
  }
 ],
 "metadata": {
  "kernelspec": {
   "display_name": "Python 3 (ipykernel)",
   "language": "python",
   "name": "python3"
  },
  "language_info": {
   "codemirror_mode": {
    "name": "ipython",
    "version": 3
   },
   "file_extension": ".py",
   "mimetype": "text/x-python",
   "name": "python",
   "nbconvert_exporter": "python",
   "pygments_lexer": "ipython3",
   "version": "3.9.7"
  }
 },
 "nbformat": 4,
 "nbformat_minor": 5
}
