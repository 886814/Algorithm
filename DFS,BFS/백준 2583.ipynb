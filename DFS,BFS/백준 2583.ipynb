{
 "cells": [
  {
   "cell_type": "code",
   "execution_count": null,
   "metadata": {},
   "outputs": [],
   "source": [
    "from collections import deque\n",
    "queue = []\n",
    "queue = deque(queue)\n",
    "dy = [1,0,-1,0]\n",
    "dx = [0,1,0,-1]\n",
    "res = []\n",
    "m,n,k= map(int,input().split())\n",
    "a = [[1]*m for _ in range(n)]\n",
    "\n",
    "for i in range(k):\n",
    "    q,w,e,r = map(int,input().split())\n",
    "    for u in range(n-e,n-q):\n",
    "        for v in range(m-r,m-w):\n",
    "            a[u][v] = 0\n",
    "\n",
    "visited = [[0]*m for _ in range(n)]\n",
    "\n",
    "for i in range(n):\n",
    "    for j in range(m):\n",
    "        if a[i][j] == 1 and visited[i][j] == 0:\n",
    "            queue.append((i,j))\n",
    "            visited[i][j] = 1\n",
    "            cnt = 1\n",
    "            while queue:\n",
    "                temp = queue.popleft()\n",
    "                for k in range(4):\n",
    "                    x = temp[0] + dx[k]\n",
    "                    y = temp[1] + dy[k]\n",
    "                    if 0 <= x < n and 0 <= y <m and a[x][y] == 1 and visited[x][y] == 0:\n",
    "                        queue.append((x,y))\n",
    "                        visited[x][y] = 1\n",
    "                        cnt += 1\n",
    "            res.append(cnt)\n",
    "\n",
    "print(len(res))\n",
    "print(*sorted(res))"
   ]
  }
 ],
 "metadata": {
  "kernelspec": {
   "display_name": "Python 3",
   "language": "python",
   "name": "python3"
  },
  "language_info": {
   "codemirror_mode": {
    "name": "ipython",
    "version": 3
   },
   "file_extension": ".py",
   "mimetype": "text/x-python",
   "name": "python",
   "nbconvert_exporter": "python",
   "pygments_lexer": "ipython3",
   "version": "3.8.8"
  },
  "toc": {
   "base_numbering": 1,
   "nav_menu": {},
   "number_sections": true,
   "sideBar": true,
   "skip_h1_title": false,
   "title_cell": "Table of Contents",
   "title_sidebar": "Contents",
   "toc_cell": false,
   "toc_position": {},
   "toc_section_display": true,
   "toc_window_display": false
  }
 },
 "nbformat": 4,
 "nbformat_minor": 4
}
