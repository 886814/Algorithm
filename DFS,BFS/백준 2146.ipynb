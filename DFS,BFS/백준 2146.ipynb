{
 "cells": [
  {
   "cell_type": "code",
   "execution_count": null,
   "id": "2620f1d6",
   "metadata": {},
   "outputs": [],
   "source": [
    "from collections import deque\n",
    "n = int(input())\n",
    "a = [list(map(int,input().split())) for _ in range(n)]\n",
    "dx = [1,0,-1,0]\n",
    "dy = [0,-1,0,1]\n",
    "q = deque([])\n",
    "visited = [[False]*n for _ in range(n)]\n",
    "island = 2\n",
    "dis = 9999999999\n",
    "\n",
    "for i in range(n):\n",
    "    for j in range(n):\n",
    "        if a[i][j] == 1:\n",
    "            q.append((i,j))\n",
    "            visited[i][j] = True\n",
    "            a[i][j] = island\n",
    "            while q:\n",
    "                ax, ay = q.popleft()\n",
    "                for k in range(4):\n",
    "                    x = ax + dx[k]\n",
    "                    y = ay + dy[k]\n",
    "                    if 0 <= x < n and 0 <= y < n and not visited[x][y] and a[x][y] == 1:\n",
    "                        q.append((x,y))\n",
    "                        visited[x][y] = True\n",
    "                        a[x][y] = island\n",
    "            island += 1\n",
    "\n",
    "def BFS(s):\n",
    "    global dis\n",
    "    dp = [[-1]*n for _ in range(n)]\n",
    "    q = deque([])\n",
    "    for i in range(n):\n",
    "        for j in range(n):\n",
    "            if a[i][j] == s:\n",
    "                q.append((i,j))\n",
    "                dp[i][j] = 0\n",
    "\n",
    "    while q:\n",
    "        ax, ay = q.popleft()\n",
    "        for k in range(4):\n",
    "            x = ax + dx[k]\n",
    "            y = ay + dy[k]\n",
    "            if x < 0 or x >= n or y < 0 or y >= n:\n",
    "                continue\n",
    "            if a[x][y] > 0 and a[x][y] != s:\n",
    "                dis = min(dis, dp[ax][ay])\n",
    "                return\n",
    "            if a[x][y] == 0 and dp[x][y] == -1:\n",
    "                q.append((x,y))\n",
    "                dp[x][y] = dp[ax][ay] + 1   \n",
    "\n",
    "for s in range(2, island):\n",
    "    BFS(s)\n",
    "\n",
    "print(dis)"
   ]
  }
 ],
 "metadata": {
  "kernelspec": {
   "display_name": "Python 3 (ipykernel)",
   "language": "python",
   "name": "python3"
  },
  "language_info": {
   "codemirror_mode": {
    "name": "ipython",
    "version": 3
   },
   "file_extension": ".py",
   "mimetype": "text/x-python",
   "name": "python",
   "nbconvert_exporter": "python",
   "pygments_lexer": "ipython3",
   "version": "3.9.12"
  }
 },
 "nbformat": 4,
 "nbformat_minor": 5
}
