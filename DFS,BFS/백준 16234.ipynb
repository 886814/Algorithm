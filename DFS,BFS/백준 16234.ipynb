{
 "cells": [
  {
   "cell_type": "code",
   "execution_count": null,
   "metadata": {},
   "outputs": [],
   "source": [
    "import sys\n",
    "from collections import deque\n",
    "n,l,r = map(int,sys.stdin.readline().split())\n",
    "a = [list(map(int,sys.stdin.readline().split())) for _ in range(n)]\n",
    "q = deque([])\n",
    "dx = [1,0,-1,0]\n",
    "dy = [0,1,0,-1]\n",
    "flag = True\n",
    "answer = -1\n",
    "\n",
    "while flag:\n",
    "    check = [[0]*n for _ in range(n)]\n",
    "    flag = False\n",
    "    s = 1\n",
    "    for i in range(n):\n",
    "        for j in range(n):\n",
    "            if check[i][j] == 0:\n",
    "                cnt = 1\n",
    "                tot = a[i][j]\n",
    "                check[i][j] = s\n",
    "                q.append((i,j))\n",
    "                pp = [(i,j)]\n",
    "                while q:\n",
    "                    x,y = q.popleft()\n",
    "                    for k in range(4):\n",
    "                        sx = x + dx[k]\n",
    "                        sy = y + dy[k]\n",
    "                        if 0 <= sx <n and 0 <= sy <n and l<=abs(a[x][y]-a[sx][sy])<=r and check[sx][sy]==0:\n",
    "                            check[sx][sy] = s\n",
    "                            q.append((sx,sy))\n",
    "                            pp.append((sx,sy))\n",
    "                            tot += a[sx][sy]\n",
    "                            cnt += 1\n",
    "                            flag = True\n",
    "                if cnt > 1:\n",
    "                    for u,v in pp:\n",
    "                        a[u][v] = int(tot/cnt)\n",
    "                s += 1\n",
    "    answer += 1\n",
    "\n",
    "print(answer)"
   ]
  }
 ],
 "metadata": {
  "kernelspec": {
   "display_name": "Python 3",
   "language": "python",
   "name": "python3"
  },
  "language_info": {
   "codemirror_mode": {
    "name": "ipython",
    "version": 3
   },
   "file_extension": ".py",
   "mimetype": "text/x-python",
   "name": "python",
   "nbconvert_exporter": "python",
   "pygments_lexer": "ipython3",
   "version": "3.8.3"
  },
  "toc": {
   "base_numbering": 1,
   "nav_menu": {},
   "number_sections": true,
   "sideBar": true,
   "skip_h1_title": false,
   "title_cell": "Table of Contents",
   "title_sidebar": "Contents",
   "toc_cell": false,
   "toc_position": {},
   "toc_section_display": true,
   "toc_window_display": false
  }
 },
 "nbformat": 4,
 "nbformat_minor": 4
}
