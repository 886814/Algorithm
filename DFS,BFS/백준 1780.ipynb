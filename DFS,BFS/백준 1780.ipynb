{
 "cells": [
  {
   "cell_type": "code",
   "execution_count": null,
   "metadata": {},
   "outputs": [],
   "source": [
    "n = int(input())\n",
    "papers = [list(map(int,input().split())) for _ in range(n)]\n",
    "\n",
    "def check(x,y,l):\n",
    "    global ans\n",
    "    temp = papers[x][y]\n",
    "    for i in range(x,x+l):\n",
    "        for j in range(y,y+l):\n",
    "            if papers[i][j] != temp:\n",
    "                l_ = l//3\n",
    "                for u in range(3):\n",
    "                    for v in range(3):\n",
    "                        check(x + u * l_, y + v * l_, l_)\n",
    "                return\n",
    "    ans[temp] += 1\n",
    "\n",
    "ans = [0,0,0]\n",
    "check(0,0,n)\n",
    "\n",
    "for k in range(-1,2):\n",
    "    print(ans[k])"
   ]
  }
 ],
 "metadata": {
  "kernelspec": {
   "display_name": "Python 3",
   "language": "python",
   "name": "python3"
  },
  "language_info": {
   "codemirror_mode": {
    "name": "ipython",
    "version": 3
   },
   "file_extension": ".py",
   "mimetype": "text/x-python",
   "name": "python",
   "nbconvert_exporter": "python",
   "pygments_lexer": "ipython3",
   "version": "3.8.8"
  },
  "toc": {
   "base_numbering": 1,
   "nav_menu": {},
   "number_sections": true,
   "sideBar": true,
   "skip_h1_title": false,
   "title_cell": "Table of Contents",
   "title_sidebar": "Contents",
   "toc_cell": false,
   "toc_position": {},
   "toc_section_display": true,
   "toc_window_display": false
  }
 },
 "nbformat": 4,
 "nbformat_minor": 4
}
