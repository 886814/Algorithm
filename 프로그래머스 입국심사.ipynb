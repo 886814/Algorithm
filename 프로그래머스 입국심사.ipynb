{
 "cells": [
  {
   "cell_type": "code",
   "execution_count": null,
   "metadata": {},
   "outputs": [],
   "source": [
    "def solution(n, times):\n",
    "    lt = 0\n",
    "    rt = n * max(times)\n",
    "    mid = (lt + rt) // 2\n",
    "    result = rt\n",
    "\n",
    "    while lt <= rt:\n",
    "        tot = 0\n",
    "        for i in times:\n",
    "            tot += mid // i\n",
    "        if tot >= n :\n",
    "            result = min(mid,result)\n",
    "            rt = mid - 1\n",
    "        elif tot < n:\n",
    "            lt = mid + 1 \n",
    "        mid = (lt + rt) // 2\n",
    "    \n",
    "    return result"
   ]
  }
 ],
 "metadata": {
  "kernelspec": {
   "display_name": "Python 3",
   "language": "python",
   "name": "python3"
  },
  "language_info": {
   "codemirror_mode": {
    "name": "ipython",
    "version": 3
   },
   "file_extension": ".py",
   "mimetype": "text/x-python",
   "name": "python",
   "nbconvert_exporter": "python",
   "pygments_lexer": "ipython3",
   "version": "3.8.3"
  },
  "toc": {
   "base_numbering": 1,
   "nav_menu": {},
   "number_sections": true,
   "sideBar": true,
   "skip_h1_title": false,
   "title_cell": "Table of Contents",
   "title_sidebar": "Contents",
   "toc_cell": false,
   "toc_position": {},
   "toc_section_display": true,
   "toc_window_display": false
  }
 },
 "nbformat": 4,
 "nbformat_minor": 4
}
