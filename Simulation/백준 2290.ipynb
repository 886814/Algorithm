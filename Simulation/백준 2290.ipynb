{
 "cells": [
  {
   "cell_type": "code",
   "execution_count": null,
   "metadata": {},
   "outputs": [],
   "source": [
    "s, n = input().split()                                                                                \n",
    "s=int(s)\n",
    "num = dict()\n",
    "num['1'] = [\" \"*(s+2),\" \"*(s+1)+\"|\", \" \"*(s+2), \" \"*(s+1)+\"|\",\" \"*(s+2)]\n",
    "num['2'] = [\" \"+\"-\"*s+\" \", \" \"*(s+1)+\"|\", \" \"+\"-\"*s+\" \",\"|\"+\" \"*(s+1), \" \"+\"-\"*s+\" \"]\n",
    "num['3'] = [\" \"+\"-\"*s+\" \", \" \"*(s+1)+\"|\", \" \"+\"-\"*s+\" \",\" \"*(s+1)+\"|\", \" \"+\"-\"*s+\" \"]\n",
    "num['4'] = [\" \"*(s+2), \"|\"+\" \"*s+\"|\", \" \"+\"-\"*s+\" \",\" \"*(s+1)+\"|\", \" \"*(s+2)]\n",
    "num['5'] = [\" \"+\"-\"*s+\" \", \"|\"+\" \"*(s+1),\" \"+\"-\"*s+\" \", \" \"*(s+1)+\"|\", \" \"+\"-\"*s+\" \"]\n",
    "num['6'] = [\" \"+\"-\"*s+\" \", \"|\"+\" \"*(s+1),\" \"+\"-\"*s+\" \", \"|\"+\" \"*s+\"|\",\" \"+\"-\"*s+\" \"]\n",
    "num['7'] = [\" \"+\"-\"*s+\" \",\" \"*(s+1)+\"|\", \" \"*(s+2),\" \"*(s+1)+\"|\",\" \"*(s+2) ]\n",
    "num['8'] = [\" \"+\"-\"*s+\" \", \"|\"+\" \"*s+\"|\",\" \"+\"-\"*s+\" \", \"|\"+\" \"*s+\"|\",\" \"+\"-\"*s+\" \"]\n",
    "num['9'] = [\" \"+\"-\"*s+\" \", \"|\"+\" \"*s+\"|\",\" \"+\"-\"*s+\" \", \" \"*(s+1)+\"|\",\" \"+\"-\"*s+\" \"]\n",
    "num['0'] = [\" \"+\"-\"*s+\" \", \"|\"+\" \"*s+\"|\",\" \"*(s+2), \"|\"+\" \"*s+\"|\",\" \"+\"-\"*s+\" \"]\n",
    "ans = []\n",
    "\n",
    "for i in range(5):\n",
    "    string = \"\"\n",
    "    if i == 0 or i == 2 or i == 4:\n",
    "        for j in n:\n",
    "            string += num[j][i] + \" \"\n",
    "        print(string[:-1])\n",
    "    else:\n",
    "        for _ in range(s):\n",
    "            for j in n:\n",
    "                string += num[j][i] + \" \"\n",
    "            print(string[:-1])\n",
    "            string = \"\""
   ]
  }
 ],
 "metadata": {
  "kernelspec": {
   "display_name": "Python 3",
   "language": "python",
   "name": "python3"
  },
  "language_info": {
   "codemirror_mode": {
    "name": "ipython",
    "version": 3
   },
   "file_extension": ".py",
   "mimetype": "text/x-python",
   "name": "python",
   "nbconvert_exporter": "python",
   "pygments_lexer": "ipython3",
   "version": "3.8.8"
  },
  "toc": {
   "base_numbering": 1,
   "nav_menu": {},
   "number_sections": true,
   "sideBar": true,
   "skip_h1_title": false,
   "title_cell": "Table of Contents",
   "title_sidebar": "Contents",
   "toc_cell": false,
   "toc_position": {},
   "toc_section_display": true,
   "toc_window_display": false
  }
 },
 "nbformat": 4,
 "nbformat_minor": 4
}
