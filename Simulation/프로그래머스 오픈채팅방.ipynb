{
 "cells": [
  {
   "cell_type": "code",
   "execution_count": null,
   "metadata": {},
   "outputs": [],
   "source": [
    "def solution(record):\n",
    "    a = {}\n",
    "    temp = []\n",
    "    result = []\n",
    "\n",
    "    for i in record:\n",
    "        temp = i.split()\n",
    "        if temp[0] == \"Enter\" or temp[0] == \"Change\":\n",
    "            a[temp[1]] = temp[2]\n",
    "\n",
    "    for i in record:\n",
    "        temp = i.split()\n",
    "        if temp[0] == \"Enter\":\n",
    "            result.append(a[temp[1]] + \"님이 들어왔습니다.\")\n",
    "        elif temp[0] == \"Leave\":\n",
    "            result.append(a[temp[1]] + \"님이 나갔습니다.\")\n",
    "    \n",
    "    return result"
   ]
  }
 ],
 "metadata": {
  "kernelspec": {
   "display_name": "Python 3",
   "language": "python",
   "name": "python3"
  },
  "language_info": {
   "codemirror_mode": {
    "name": "ipython",
    "version": 3
   },
   "file_extension": ".py",
   "mimetype": "text/x-python",
   "name": "python",
   "nbconvert_exporter": "python",
   "pygments_lexer": "ipython3",
   "version": "3.8.3"
  },
  "toc": {
   "base_numbering": 1,
   "nav_menu": {},
   "number_sections": true,
   "sideBar": true,
   "skip_h1_title": false,
   "title_cell": "Table of Contents",
   "title_sidebar": "Contents",
   "toc_cell": false,
   "toc_position": {},
   "toc_section_display": true,
   "toc_window_display": false
  }
 },
 "nbformat": 4,
 "nbformat_minor": 4
}
