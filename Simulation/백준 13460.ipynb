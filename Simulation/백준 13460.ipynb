{
 "cells": [
  {
   "cell_type": "code",
   "execution_count": null,
   "metadata": {},
   "outputs": [],
   "source": [
    "from collections import deque\n",
    "\n",
    "n,m = map(int,input().split())\n",
    "a = [list(input()) for _ in range(n)]\n",
    "check = [[[[False]*m for _ in range(n)] for _ in range(m)] for _ in range(n)]\n",
    "q = deque()\n",
    "dx,dy = (-1,0,1,0),(0,1,0,-1)\n",
    "\n",
    "def move(x, y, ax, ay, c):\n",
    "    while a[x+ax][y+ay] != '#' and a[x][y] != 'O':\n",
    "        x += ax\n",
    "        y += ay\n",
    "        c += 1\n",
    "    return x, y, c\n",
    "\n",
    "def BFS():\n",
    "    while q:\n",
    "        rx,ry,bx,by,d = q.popleft()\n",
    "        if d >= 10:\n",
    "            return -1\n",
    "        for k in range(4):\n",
    "            nrx,nry,rc = move(rx,ry,dx[k],dy[k],0)\n",
    "            nbx,nby,bc = move(bx,by,dx[k],dy[k],0)\n",
    "            if a[nbx][nby] == \"O\":\n",
    "                continue\n",
    "            if nrx == nbx and nry == nby:\n",
    "                if a[nrx][nry] == \"O\":\n",
    "                    return -1\n",
    "                if rc > bc:\n",
    "                    nrx, nry = nrx-dx[k], nry-dy[k]\n",
    "                else:\n",
    "                    nbx, nby = nbx-dx[k], nby-dy[k]\n",
    "            if a[nrx][nry] == \"O\":\n",
    "                return d+1\n",
    "            if not check[nrx][nry][nbx][nby]:\n",
    "                check[nrx][nry][nbx][nby] = True\n",
    "                q.append((nrx, nry, nbx, nby, d+1))\n",
    "    return -1\n",
    "\n",
    "for i in range(n):\n",
    "    for j in range(m):\n",
    "        if a[i][j] == \"R\":\n",
    "            rx,ry = i,j\n",
    "        if a[i][j] == \"B\":\n",
    "            bx,by = i,j\n",
    "q.append((rx,ry,bx,by,0))\n",
    "\n",
    "print(BFS())"
   ]
  }
 ],
 "metadata": {
  "kernelspec": {
   "display_name": "Python 3",
   "language": "python",
   "name": "python3"
  },
  "language_info": {
   "codemirror_mode": {
    "name": "ipython",
    "version": 3
   },
   "file_extension": ".py",
   "mimetype": "text/x-python",
   "name": "python",
   "nbconvert_exporter": "python",
   "pygments_lexer": "ipython3",
   "version": "3.8.8"
  },
  "toc": {
   "base_numbering": 1,
   "nav_menu": {},
   "number_sections": true,
   "sideBar": true,
   "skip_h1_title": false,
   "title_cell": "Table of Contents",
   "title_sidebar": "Contents",
   "toc_cell": false,
   "toc_position": {},
   "toc_section_display": true,
   "toc_window_display": false
  }
 },
 "nbformat": 4,
 "nbformat_minor": 4
}
