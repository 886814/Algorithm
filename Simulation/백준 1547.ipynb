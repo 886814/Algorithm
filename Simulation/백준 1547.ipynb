{
 "cells": [
  {
   "cell_type": "code",
   "execution_count": null,
   "id": "5c5ccbce",
   "metadata": {},
   "outputs": [],
   "source": [
    "m = int(input())\n",
    "cups = [0] * 4\n",
    "cups[1] = 1\n",
    "for i in range(m):\n",
    "    x,y = map(int,input().split())\n",
    "    cups[x], cups[y] = cups[y], cups[x]\n",
    "\n",
    "print(cups.index(1))"
   ]
  }
 ],
 "metadata": {
  "kernelspec": {
   "display_name": "Python 3 (ipykernel)",
   "language": "python",
   "name": "python3"
  },
  "language_info": {
   "codemirror_mode": {
    "name": "ipython",
    "version": 3
   },
   "file_extension": ".py",
   "mimetype": "text/x-python",
   "name": "python",
   "nbconvert_exporter": "python",
   "pygments_lexer": "ipython3",
   "version": "3.7.11"
  }
 },
 "nbformat": 4,
 "nbformat_minor": 5
}
