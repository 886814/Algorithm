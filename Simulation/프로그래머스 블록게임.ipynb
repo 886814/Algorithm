{
 "cells": [
  {
   "cell_type": "code",
   "execution_count": null,
   "metadata": {},
   "outputs": [],
   "source": [
    "def check(x,y,h,w,board):\n",
    "    emptyCnt = 0\n",
    "    lastValue = -1\n",
    "    for r in range(x,x+h):\n",
    "        for c in range(y,y+w):\n",
    "            if board[r][c] == 0:\n",
    "                if canfill(r,c,board) == False:\n",
    "                    return False\n",
    "                emptyCnt += 1\n",
    "                if emptyCnt > 2:\n",
    "                    return False\n",
    "            else:\n",
    "                if lastValue == -1:\n",
    "                    lastValue = board[r][c]\n",
    "                elif lastValue != board[r][c]:\n",
    "                    return False\n",
    "\n",
    "    for r in range(x,x+h):\n",
    "        for c in range(y,y+w):\n",
    "            board[r][c] = 0\n",
    "\n",
    "    return True\n",
    "\n",
    "def canfill(x,y,board):\n",
    "    for i in range(x):\n",
    "        if board[i][y] :\n",
    "            return False\n",
    "    return True\n",
    "\n",
    "def solution(board):\n",
    "    n = len(board)\n",
    "    answer = 0\n",
    "\n",
    "    while True:\n",
    "        cnt = 0\n",
    "        for i in range(n):\n",
    "            for j in range(n):\n",
    "                if i <= n-2 and j <= n-3 and check(i,j,2,3,board):\n",
    "                    cnt += 1\n",
    "                elif i <= n-3 and j <= n-2 and check(i,j,3,2,board):\n",
    "                    cnt += 1\n",
    "        answer += cnt\n",
    "        if cnt == 0:\n",
    "            break\n",
    "\n",
    "    return answer"
   ]
  }
 ],
 "metadata": {
  "kernelspec": {
   "display_name": "Python 3",
   "language": "python",
   "name": "python3"
  },
  "language_info": {
   "codemirror_mode": {
    "name": "ipython",
    "version": 3
   },
   "file_extension": ".py",
   "mimetype": "text/x-python",
   "name": "python",
   "nbconvert_exporter": "python",
   "pygments_lexer": "ipython3",
   "version": "3.8.3"
  },
  "toc": {
   "base_numbering": 1,
   "nav_menu": {},
   "number_sections": true,
   "sideBar": true,
   "skip_h1_title": false,
   "title_cell": "Table of Contents",
   "title_sidebar": "Contents",
   "toc_cell": false,
   "toc_position": {},
   "toc_section_display": true,
   "toc_window_display": false
  }
 },
 "nbformat": 4,
 "nbformat_minor": 4
}
