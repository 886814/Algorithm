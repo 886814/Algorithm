{
 "cells": [
  {
   "cell_type": "code",
   "execution_count": null,
   "metadata": {},
   "outputs": [],
   "source": [
    "def solution(s):\n",
    "    LENGTH = len(s)\n",
    "    STR, COUNT = 0, 1\n",
    "    cand = [LENGTH]  # 1~len까지 압축했을때 길이 값\n",
    "\n",
    "    for size in range(1, LENGTH):\n",
    "        compressed = \"\"\n",
    "        # string 갯수 단위로 쪼개기 *\n",
    "        splited = [s[i:i+size] for i in range(0, LENGTH, size)]\n",
    "        stack = [[splited[0], 1]]\n",
    "\n",
    "        for unit in splited[1:]:\n",
    "            if stack[-1][STR] != unit:  # 이전 문자와 다르다면\n",
    "                stack.append([unit, 1])\n",
    "            else:  # 이전 문자와 다르다면\n",
    "                stack[-1][COUNT] += 1\n",
    "\n",
    "        compressed += ('').join([str(cnt) + w if cnt > 1 else w for w, cnt in stack])\n",
    "        cand.append(len(compressed))\n",
    "\n",
    "    return min(cand)  # 최솟값 리턴"
   ]
  }
 ],
 "metadata": {
  "kernelspec": {
   "display_name": "Python 3",
   "language": "python",
   "name": "python3"
  },
  "language_info": {
   "codemirror_mode": {
    "name": "ipython",
    "version": 3
   },
   "file_extension": ".py",
   "mimetype": "text/x-python",
   "name": "python",
   "nbconvert_exporter": "python",
   "pygments_lexer": "ipython3",
   "version": "3.8.8"
  },
  "toc": {
   "base_numbering": 1,
   "nav_menu": {},
   "number_sections": true,
   "sideBar": true,
   "skip_h1_title": false,
   "title_cell": "Table of Contents",
   "title_sidebar": "Contents",
   "toc_cell": false,
   "toc_position": {},
   "toc_section_display": true,
   "toc_window_display": false
  }
 },
 "nbformat": 4,
 "nbformat_minor": 4
}
