{
 "cells": [
  {
   "cell_type": "code",
   "execution_count": null,
   "metadata": {},
   "outputs": [],
   "source": [
    "import copy\n",
    "\n",
    "def expend_lock(lock, N, M, size):\n",
    "    expended_lock = [[0 for i in range(size)] for _ in range(size)]\n",
    "    for y in range(N):\n",
    "        for x in range(N):\n",
    "            expended_lock[y + M - 1][x + M - 1] = lock[y][x]\n",
    "\n",
    "    return expended_lock\n",
    "\n",
    "def rotate(key):\n",
    "    return [list(reversed(i)) for i in zip(*key)]\n",
    "\n",
    "def is_unlock(y, x, key, lock, N, M):\n",
    "    _lock = copy.deepcopy(lock)\n",
    "    for _y in range(M):\n",
    "        for _x in range(M):\n",
    "            _lock[_y + y][_x + x] += key[_y][_x]\n",
    "\n",
    "    for _y in range(N):\n",
    "        for _x in range(N):\n",
    "            if _lock[_y + M - 1][_x + M - 1] != 1:\n",
    "                return False\n",
    "\n",
    "    return True\n",
    "\n",
    "def solution(key, lock):\n",
    "    N = len(lock)\n",
    "    M = len(key)\n",
    "    size = (N - 1) * 2 + M\n",
    "    expended_lock = expend_lock(lock, N, M, size)\n",
    "\n",
    "    for _ in range(4):\n",
    "        for y in range(size - M + 1):\n",
    "            for x in range(size - M + 1):\n",
    "                if is_unlock(y, x, key, expended_lock, N, M):\n",
    "                    return True\n",
    "        key = rotate(key)\n",
    "\n",
    "    return False"
   ]
  }
 ],
 "metadata": {
  "kernelspec": {
   "display_name": "Python 3",
   "language": "python",
   "name": "python3"
  },
  "language_info": {
   "codemirror_mode": {
    "name": "ipython",
    "version": 3
   },
   "file_extension": ".py",
   "mimetype": "text/x-python",
   "name": "python",
   "nbconvert_exporter": "python",
   "pygments_lexer": "ipython3",
   "version": "3.8.8"
  },
  "toc": {
   "base_numbering": 1,
   "nav_menu": {},
   "number_sections": true,
   "sideBar": true,
   "skip_h1_title": false,
   "title_cell": "Table of Contents",
   "title_sidebar": "Contents",
   "toc_cell": false,
   "toc_position": {},
   "toc_section_display": true,
   "toc_window_display": false
  }
 },
 "nbformat": 4,
 "nbformat_minor": 4
}
