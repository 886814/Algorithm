{
 "cells": [
  {
   "cell_type": "code",
   "execution_count": null,
   "metadata": {},
   "outputs": [],
   "source": [
    "for _ in range(255):\n",
    "    n = int(input())\n",
    "    if n == 0:\n",
    "        break\n",
    "    ans = 0\n",
    "    \n",
    "    sqrt = int(n**(1/2))\n",
    "    \n",
    "    for x in range(1, sqrt+1):\n",
    "        if x*x == n:\n",
    "            ans += 1\n",
    "            continue\n",
    "        for y in range(x, sqrt+1):\n",
    "            if x*x + y*y == n:\n",
    "                ans += 1\n",
    "                break\n",
    "            for z in range(y, sqrt+1):\n",
    "                if x*x + y*y + z*z == n:\n",
    "                    ans += 1\n",
    "                    break\n",
    "                for d in range(z, sqrt+1):\n",
    "                    if x*x + y*y + z*z + d*d == n:\n",
    "                        ans += 1\n",
    "                        break\n",
    "                    if x*x + y*y + z*z + d*d > n:\n",
    "                        break\n",
    "    \n",
    "    print(ans)"
   ]
  }
 ],
 "metadata": {
  "kernelspec": {
   "display_name": "Python 3 (ipykernel)",
   "language": "python",
   "name": "python3"
  },
  "language_info": {
   "codemirror_mode": {
    "name": "ipython",
    "version": 3
   },
   "file_extension": ".py",
   "mimetype": "text/x-python",
   "name": "python",
   "nbconvert_exporter": "python",
   "pygments_lexer": "ipython3",
   "version": "3.9.7"
  },
  "toc": {
   "base_numbering": 1,
   "nav_menu": {},
   "number_sections": true,
   "sideBar": true,
   "skip_h1_title": false,
   "title_cell": "Table of Contents",
   "title_sidebar": "Contents",
   "toc_cell": false,
   "toc_position": {},
   "toc_section_display": true,
   "toc_window_display": false
  }
 },
 "nbformat": 4,
 "nbformat_minor": 4
}
