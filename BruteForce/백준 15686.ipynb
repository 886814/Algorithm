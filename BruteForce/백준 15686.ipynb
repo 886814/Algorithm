{
 "cells": [
  {
   "cell_type": "code",
   "execution_count": null,
   "metadata": {},
   "outputs": [],
   "source": [
    "from itertools import combinations\n",
    "n,m = map(int,input().split())\n",
    "a = [list(map(int,input().split())) for _ in range(n)]\n",
    "pz = []\n",
    "hs = []\n",
    "ans = 99999999999\n",
    "\n",
    "for i in range(n):\n",
    "    for j in range(n):\n",
    "        if a[i][j] == 2:\n",
    "            pz.append((i,j))\n",
    "        elif a[i][j] == 1:\n",
    "            hs.append((i,j))\n",
    "            \n",
    "for x in combinations(pz,m):\n",
    "    tot = 0\n",
    "    for i in hs:\n",
    "        x1 = i[0]\n",
    "        y1 = i[1]\n",
    "        dis = 999999999\n",
    "        for j in x:\n",
    "            x2 = j[0]\n",
    "            y2 = j[1]\n",
    "            dis = min(dis,abs(x1-x2)+abs(y1-y2))\n",
    "        tot += dis\n",
    "    ans = min(ans,tot)\n",
    "print(ans)"
   ]
  }
 ],
 "metadata": {
  "kernelspec": {
   "display_name": "Python 3",
   "language": "python",
   "name": "python3"
  },
  "language_info": {
   "codemirror_mode": {
    "name": "ipython",
    "version": 3
   },
   "file_extension": ".py",
   "mimetype": "text/x-python",
   "name": "python",
   "nbconvert_exporter": "python",
   "pygments_lexer": "ipython3",
   "version": "3.8.3"
  },
  "toc": {
   "base_numbering": 1,
   "nav_menu": {},
   "number_sections": true,
   "sideBar": true,
   "skip_h1_title": false,
   "title_cell": "Table of Contents",
   "title_sidebar": "Contents",
   "toc_cell": false,
   "toc_position": {},
   "toc_section_display": true,
   "toc_window_display": false
  }
 },
 "nbformat": 4,
 "nbformat_minor": 4
}
