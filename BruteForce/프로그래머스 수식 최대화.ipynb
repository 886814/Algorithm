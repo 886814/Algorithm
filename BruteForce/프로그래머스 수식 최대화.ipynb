{
 "cells": [
  {
   "cell_type": "code",
   "execution_count": null,
   "metadata": {},
   "outputs": [],
   "source": [
    "import itertools as it\n",
    "import re\n",
    "def solution(expression):\n",
    "    op = [x for x in ['*','+','-'] if x in expression]\n",
    "    op = [list(y) for y in it.permutations(op)]\n",
    "    ex = re.split(r'(\\D)',expression)\n",
    "\n",
    "    result = []\n",
    "    for x in op:\n",
    "        _ex = ex[:]\n",
    "        for y in x:\n",
    "            while y in _ex:\n",
    "                tmp = _ex.index(y)\n",
    "                _ex[tmp-1] = str(eval(_ex[tmp-1]+_ex[tmp]+_ex[tmp+1]))\n",
    "                _ex = _ex[:tmp]+_ex[tmp+2:]\n",
    "        result.append(_ex[-1])\n",
    "\n",
    "    return max(abs(int(x)) for x in result)"
   ]
  }
 ],
 "metadata": {
  "kernelspec": {
   "display_name": "Python 3",
   "language": "python",
   "name": "python3"
  },
  "language_info": {
   "codemirror_mode": {
    "name": "ipython",
    "version": 3
   },
   "file_extension": ".py",
   "mimetype": "text/x-python",
   "name": "python",
   "nbconvert_exporter": "python",
   "pygments_lexer": "ipython3",
   "version": "3.8.8"
  },
  "toc": {
   "base_numbering": 1,
   "nav_menu": {},
   "number_sections": true,
   "sideBar": true,
   "skip_h1_title": false,
   "title_cell": "Table of Contents",
   "title_sidebar": "Contents",
   "toc_cell": false,
   "toc_position": {},
   "toc_section_display": true,
   "toc_window_display": false
  }
 },
 "nbformat": 4,
 "nbformat_minor": 4
}
