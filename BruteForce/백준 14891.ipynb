{
 "cells": [
  {
   "cell_type": "code",
   "execution_count": null,
   "metadata": {},
   "outputs": [],
   "source": [
    "def rotation(x,t):\n",
    "    if t == 1:\n",
    "        for i in range(7):\n",
    "            x[-i+1],x[-i] = x[-i],x[-i+1]\n",
    "        return x\n",
    "    elif t == -1:\n",
    "        for j in range(7):\n",
    "            x[j+1],x[j] = x[j],x[j+1]\n",
    "        return x\n",
    "    else:\n",
    "        return\n",
    "\n",
    "wheel  = [list(input()) for _ in range(4)]\n",
    "#wheel = [['1', '0', '1', '0', '1', '1', '1', '1'], ['0', '1', '1', '1', '1', '1', '0', '1'], ['1', '1', '0', '0', '1', '1', '1', '0'], ['0', '0', '0', '0', '0', '0', '1', '0']]\n",
    "k = int(input())\n",
    "#k = 2\n",
    "cnt = 0\n",
    "\n",
    "for _ in range(k):\n",
    "    tmp = [0,0,0,0]\n",
    "    n,d = map(int,input().split())\n",
    "    tmp[n-1] = d\n",
    "\n",
    "    for t in range(4) :\n",
    "        if n+t <= 3 and wheel[n-1+t][2] != wheel[n+t][-2]:\n",
    "            tmp[n+t] = -tmp[n-1+t]\n",
    "        if n-t-2 >= 0 and wheel[n-1-t][-2] != wheel[n-t-2][2]:\n",
    "            tmp[n-t-2] = -tmp[n-1-t]\n",
    "\n",
    "    for j in range(4):\n",
    "        rotation(wheel[j],tmp[j])\n",
    "\n",
    "for k in range(4):\n",
    "    if wheel[k][0] == \"1\":\n",
    "        cnt += 2**k\n",
    "        \n",
    "print(cnt)"
   ]
  }
 ],
 "metadata": {
  "kernelspec": {
   "display_name": "Python 3",
   "language": "python",
   "name": "python3"
  },
  "language_info": {
   "codemirror_mode": {
    "name": "ipython",
    "version": 3
   },
   "file_extension": ".py",
   "mimetype": "text/x-python",
   "name": "python",
   "nbconvert_exporter": "python",
   "pygments_lexer": "ipython3",
   "version": "3.8.3"
  },
  "toc": {
   "base_numbering": 1,
   "nav_menu": {},
   "number_sections": true,
   "sideBar": true,
   "skip_h1_title": false,
   "title_cell": "Table of Contents",
   "title_sidebar": "Contents",
   "toc_cell": false,
   "toc_position": {},
   "toc_section_display": true,
   "toc_window_display": false
  }
 },
 "nbformat": 4,
 "nbformat_minor": 4
}
