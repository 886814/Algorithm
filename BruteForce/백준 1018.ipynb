{
 "cells": [
  {
   "cell_type": "code",
   "execution_count": null,
   "metadata": {},
   "outputs": [],
   "source": [
    "n,m = map(int,input().split())\n",
    "a = [list(input()) for _ in range(n)]\n",
    "answer = 64\n",
    "WB = [\"W\",\"B\"]\n",
    "for i in range(n-7):\n",
    "    for j in range(m-7):\n",
    "        b = [x[j:j+8] for x in a[i:i+8]]\n",
    "        cnt_w = 0\n",
    "        cnt_b = 0\n",
    "        for u in range(8):\n",
    "            for v in range(8):\n",
    "                if b[u][v] != WB[(u+v) % 2]:\n",
    "                    cnt_w += 1\n",
    "                if b[u][v] != WB[(u+v+1) % 2]:\n",
    "                    cnt_b += 1\n",
    "        answer = min(answer,min(cnt_b,cnt_w))\n",
    "print(answer)"
   ]
  }
 ],
 "metadata": {
  "kernelspec": {
   "display_name": "Python 3",
   "language": "python",
   "name": "python3"
  },
  "language_info": {
   "codemirror_mode": {
    "name": "ipython",
    "version": 3
   },
   "file_extension": ".py",
   "mimetype": "text/x-python",
   "name": "python",
   "nbconvert_exporter": "python",
   "pygments_lexer": "ipython3",
   "version": "3.8.3"
  },
  "toc": {
   "base_numbering": 1,
   "nav_menu": {},
   "number_sections": true,
   "sideBar": true,
   "skip_h1_title": false,
   "title_cell": "Table of Contents",
   "title_sidebar": "Contents",
   "toc_cell": false,
   "toc_position": {},
   "toc_section_display": true,
   "toc_window_display": false
  }
 },
 "nbformat": 4,
 "nbformat_minor": 4
}
