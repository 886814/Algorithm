{
 "cells": [
  {
   "cell_type": "code",
   "execution_count": null,
   "id": "f04d0fce",
   "metadata": {},
   "outputs": [],
   "source": [
    "def solution(answers):\n",
    "    answer = []\n",
    "    num1 = [x % 5 + 1 for x in range(len(answers))]\n",
    "    num2 = [2,1,2,3,2,4,2,5]\n",
    "    num3 = [3,3,1,1,2,2,4,4,5,5]\n",
    "    num_cnt = [0,0,0]\n",
    "\n",
    "    for i in range(len(answers)):\n",
    "        if answers[i] == num1[i]:\n",
    "            num_cnt[0] += 1\n",
    "        if answers[i] == num2[i % 8]:\n",
    "            num_cnt[1] += 1\n",
    "        if answers[i] == num3[i % 10]:\n",
    "            num_cnt[2] += 1\n",
    "    \n",
    "    for i in range(3):\n",
    "        if num_cnt[i] == max(num_cnt):\n",
    "            answer.append(i+1)\n",
    "    \n",
    "    return answer"
   ]
  }
 ],
 "metadata": {
  "kernelspec": {
   "display_name": "Python 3 (ipykernel)",
   "language": "python",
   "name": "python3"
  },
  "language_info": {
   "codemirror_mode": {
    "name": "ipython",
    "version": 3
   },
   "file_extension": ".py",
   "mimetype": "text/x-python",
   "name": "python",
   "nbconvert_exporter": "python",
   "pygments_lexer": "ipython3",
   "version": "3.9.7"
  }
 },
 "nbformat": 4,
 "nbformat_minor": 5
}
