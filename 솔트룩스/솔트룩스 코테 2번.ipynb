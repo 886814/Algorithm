{
 "cells": [
  {
   "cell_type": "code",
   "execution_count": 3,
   "id": "00535b83",
   "metadata": {
    "scrolled": true
   },
   "outputs": [],
   "source": [
    "# n이최대 100000, t1,t2의 길이가 최대 500000 이므로 아마 시간초과 날 것 같음\n",
    "\n",
    "import random\n",
    "n = 1000\n",
    "t1 = [random.randrange(1,1000) for _ in range(5000)]\n",
    "t2 = [random.randrange(1,1000) for _ in range(5000)]\n",
    "\n",
    "t_solo = list(set(range(1,n+1)) - set(t1+t2))\n",
    "\n",
    "groups = []\n",
    "visited = [False for _ in range(n+1)]\n",
    "for i in range(len(t1)):\n",
    "    if not visited[t1[i]] or not visited[t2[i]]:\n",
    "        temp = {t1[i],t2[i]}\n",
    "        visited[t1[i]], visited[t2[i]] = True, True\n",
    "        for j in range(1, len(t1)):\n",
    "            if t1[j] in temp or t2[j] in temp:\n",
    "                temp.add(t1[j])\n",
    "                temp.add(t2[j])\n",
    "                visited[t1[j]], visited[t2[j]] = True, True\n",
    "        groups.append(sorted(list(temp)))\n",
    "        \n",
    "new_groups = [group[len(group)//2-1] if len(group) % 2 == 0 else group[len(group)//2] for group in groups]\n",
    "print(sorted(new_groups + t_solo))"
   ]
  }
 ],
 "metadata": {
  "kernelspec": {
   "display_name": "Python 3",
   "language": "python",
   "name": "python3"
  },
  "language_info": {
   "codemirror_mode": {
    "name": "ipython",
    "version": 3
   },
   "file_extension": ".py",
   "mimetype": "text/x-python",
   "name": "python",
   "nbconvert_exporter": "python",
   "pygments_lexer": "ipython3",
   "version": "3.8.8"
  }
 },
 "nbformat": 4,
 "nbformat_minor": 5
}
