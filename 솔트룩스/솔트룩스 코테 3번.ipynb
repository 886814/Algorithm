{
 "cells": [
  {
   "cell_type": "code",
   "execution_count": null,
   "id": "ebfdb427",
   "metadata": {},
   "outputs": [],
   "source": [
    "from collections import deque\n",
    "\n",
    "n = int(input())\n",
    "p = [int(input()) for _ in range(n)]\n",
    "\n",
    "p.sort()\n",
    "p=deque(p)\n",
    "cnt=0\n",
    "\n",
    "while p:\n",
    "    if len(p)==1:\n",
    "        cnt+=1\n",
    "        break\n",
    "    if p[0]+p[-1]>4:\n",
    "        p.pop()\n",
    "        cnt+=1\n",
    "    else:\n",
    "        p.popleft()\n",
    "        p.pop()\n",
    "        cnt+=1\n",
    "print(cnt)"
   ]
  }
 ],
 "metadata": {
  "kernelspec": {
   "display_name": "Python 3",
   "language": "python",
   "name": "python3"
  },
  "language_info": {
   "codemirror_mode": {
    "name": "ipython",
    "version": 3
   },
   "file_extension": ".py",
   "mimetype": "text/x-python",
   "name": "python",
   "nbconvert_exporter": "python",
   "pygments_lexer": "ipython3",
   "version": "3.8.8"
  }
 },
 "nbformat": 4,
 "nbformat_minor": 5
}
