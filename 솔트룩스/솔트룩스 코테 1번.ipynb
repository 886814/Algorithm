{
 "cells": [
  {
   "cell_type": "code",
   "execution_count": null,
   "id": "46993cf8",
   "metadata": {},
   "outputs": [],
   "source": [
    "src = input()\n",
    "answer = src[0]\n",
    "cnt = 1\n",
    "temp = src[0]\n",
    "\n",
    "for i in range(1,len(src)):\n",
    "    if temp == src[i]:\n",
    "        cnt += 1\n",
    "    else:\n",
    "        temp = src[i]\n",
    "        answer += chr(cnt+64)\n",
    "        cnt = 1\n",
    "    if i == len(src)-1:\n",
    "        answer += chr(cnt+64)\n",
    "        break\n",
    "\n",
    "print(answer)"
   ]
  }
 ],
 "metadata": {
  "kernelspec": {
   "display_name": "Python 3",
   "language": "python",
   "name": "python3"
  },
  "language_info": {
   "codemirror_mode": {
    "name": "ipython",
    "version": 3
   },
   "file_extension": ".py",
   "mimetype": "text/x-python",
   "name": "python",
   "nbconvert_exporter": "python",
   "pygments_lexer": "ipython3",
   "version": "3.8.8"
  }
 },
 "nbformat": 4,
 "nbformat_minor": 5
}
