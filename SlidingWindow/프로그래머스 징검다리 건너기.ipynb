{
 "cells": [
  {
   "cell_type": "code",
   "execution_count": null,
   "metadata": {},
   "outputs": [],
   "source": [
    "from collections import deque\n",
    "def solution(stones, k):\n",
    "    n = len(stones)\n",
    "    d = [0] * n\n",
    "    dq = deque()\n",
    "    local_max = max(stones[:k])\n",
    "    if n == 1:\n",
    "        return stones[0]\n",
    "\n",
    "    for idx in range(n): \n",
    "        while dq and dq[-1][1] < stones[idx]:\n",
    "            dq.pop()\n",
    "\n",
    "        while dq and idx - dq[0][0] >= k:\n",
    "            dq.popleft()\n",
    "    \n",
    "        dq.append((idx, stones[idx]))\n",
    "        d[idx] = dq[0][1]\n",
    "    \n",
    "    return min(min(d[k:]),local_max)"
   ]
  }
 ],
 "metadata": {
  "kernelspec": {
   "display_name": "Python 3",
   "language": "python",
   "name": "python3"
  },
  "language_info": {
   "codemirror_mode": {
    "name": "ipython",
    "version": 3
   },
   "file_extension": ".py",
   "mimetype": "text/x-python",
   "name": "python",
   "nbconvert_exporter": "python",
   "pygments_lexer": "ipython3",
   "version": "3.8.8"
  },
  "toc": {
   "base_numbering": 1,
   "nav_menu": {},
   "number_sections": true,
   "sideBar": true,
   "skip_h1_title": false,
   "title_cell": "Table of Contents",
   "title_sidebar": "Contents",
   "toc_cell": false,
   "toc_position": {},
   "toc_section_display": true,
   "toc_window_display": false
  }
 },
 "nbformat": 4,
 "nbformat_minor": 4
}
