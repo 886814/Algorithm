{
 "cells": [
  {
   "cell_type": "code",
   "execution_count": null,
   "metadata": {},
   "outputs": [],
   "source": [
    "import math\n",
    "def solution(numbers, hand):\n",
    "    left_numbers = [1,4,7]\n",
    "    middle_numbers = [2,5,8,0]\n",
    "    right_numbers = [3,6,9]\n",
    "    result = \"\"\n",
    "    current_left = 10\n",
    "    current_right = 12\n",
    "\n",
    "    for number in numbers:\n",
    "        if number in left_numbers:\n",
    "            result += \"L\"\n",
    "            current_left = number\n",
    "        elif number in right_numbers:\n",
    "            result += \"R\"\n",
    "            current_right = number\n",
    "        else:\n",
    "            temp = number\n",
    "            if number == 0:\n",
    "                temp = 11\n",
    "            temp1 = abs(current_left - temp) // 3 + abs(current_left - temp) % 3\n",
    "            temp2 = abs(current_right - temp) // 3 + abs(current_right - temp) % 3\n",
    "            if temp1 < temp2:\n",
    "                result += \"L\"\n",
    "                current_left = temp\n",
    "            elif temp1 > temp2:\n",
    "                result += \"R\"\n",
    "                current_right = temp\n",
    "            else:\n",
    "                if hand == \"left\":\n",
    "                    result += \"L\"\n",
    "                    current_left = temp\n",
    "                else:\n",
    "                    result += \"R\"\n",
    "                    current_right = temp\n",
    "\n",
    "    return result"
   ]
  }
 ],
 "metadata": {
  "kernelspec": {
   "display_name": "Python 3",
   "language": "python",
   "name": "python3"
  },
  "language_info": {
   "codemirror_mode": {
    "name": "ipython",
    "version": 3
   },
   "file_extension": ".py",
   "mimetype": "text/x-python",
   "name": "python",
   "nbconvert_exporter": "python",
   "pygments_lexer": "ipython3",
   "version": "3.8.3"
  },
  "toc": {
   "base_numbering": 1,
   "nav_menu": {},
   "number_sections": true,
   "sideBar": true,
   "skip_h1_title": false,
   "title_cell": "Table of Contents",
   "title_sidebar": "Contents",
   "toc_cell": false,
   "toc_position": {},
   "toc_section_display": true,
   "toc_window_display": false
  }
 },
 "nbformat": 4,
 "nbformat_minor": 4
}
