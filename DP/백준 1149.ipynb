{
 "cells": [
  {
   "cell_type": "code",
   "execution_count": null,
   "metadata": {},
   "outputs": [],
   "source": [
    "n = int(input())\n",
    "a = [list(map(int,input().split())) for _ in range(n)]\n",
    "d = [[0]*3 for _ in range(n)]\n",
    "\n",
    "for i in range(n):\n",
    "    d[i][0] = min(d[i-1][1],d[i-1][2]) + a[i][0]\n",
    "    d[i][1] = min(d[i-1][0],d[i-1][2]) + a[i][1]\n",
    "    d[i][2] = min(d[i-1][0],d[i-1][1]) + a[i][2]\n",
    "    \n",
    "print(min(d[n-1]))"
   ]
  }
 ],
 "metadata": {
  "kernelspec": {
   "display_name": "Python 3",
   "language": "python",
   "name": "python3"
  },
  "language_info": {
   "codemirror_mode": {
    "name": "ipython",
    "version": 3
   },
   "file_extension": ".py",
   "mimetype": "text/x-python",
   "name": "python",
   "nbconvert_exporter": "python",
   "pygments_lexer": "ipython3",
   "version": "3.8.8"
  },
  "toc": {
   "base_numbering": 1,
   "nav_menu": {},
   "number_sections": true,
   "sideBar": true,
   "skip_h1_title": false,
   "title_cell": "Table of Contents",
   "title_sidebar": "Contents",
   "toc_cell": false,
   "toc_position": {},
   "toc_section_display": true,
   "toc_window_display": false
  }
 },
 "nbformat": 4,
 "nbformat_minor": 4
}
