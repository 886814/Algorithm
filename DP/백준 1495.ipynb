{
 "cells": [
  {
   "cell_type": "code",
   "execution_count": null,
   "metadata": {},
   "outputs": [],
   "source": [
    "n,s,m = map(int,input().split())\n",
    "v = list(map(int,input().split()))\n",
    "check = [[0] * (m + 1) for _ in range(n + 1)]\n",
    "check[0][s] = 1\n",
    "\n",
    "for i in range(1,n+1):\n",
    "    for j in range(m+1):\n",
    "        if not check[i-1][j]:\n",
    "            continue\n",
    "        if j-v[i-1] >= 0:\n",
    "            check[i][j-v[i-1]] = 1\n",
    "        if j+v[i-1] <= m:\n",
    "            check[i][j+v[i-1]] = 1\n",
    "            \n",
    "ans = -1\n",
    "for k in range(m,-1,-1):\n",
    "    if check[n][k]:\n",
    "        ans = k\n",
    "        break\n",
    "\n",
    "print(ans)"
   ]
  }
 ],
 "metadata": {
  "kernelspec": {
   "display_name": "Python 3",
   "language": "python",
   "name": "python3"
  },
  "language_info": {
   "codemirror_mode": {
    "name": "ipython",
    "version": 3
   },
   "file_extension": ".py",
   "mimetype": "text/x-python",
   "name": "python",
   "nbconvert_exporter": "python",
   "pygments_lexer": "ipython3",
   "version": "3.8.8"
  },
  "toc": {
   "base_numbering": 1,
   "nav_menu": {},
   "number_sections": true,
   "sideBar": true,
   "skip_h1_title": false,
   "title_cell": "Table of Contents",
   "title_sidebar": "Contents",
   "toc_cell": false,
   "toc_position": {},
   "toc_section_display": true,
   "toc_window_display": false
  }
 },
 "nbformat": 4,
 "nbformat_minor": 4
}
