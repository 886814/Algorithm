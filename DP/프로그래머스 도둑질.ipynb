{
 "cells": [
  {
   "cell_type": "code",
   "execution_count": null,
   "metadata": {},
   "outputs": [],
   "source": [
    "def solution(money):\n",
    "    answer = 0\n",
    "    dp1 = [0] * len(money)\n",
    "    dp2 = [0] * len(money)\n",
    "    \n",
    "    # 첫 번째 집 털기\n",
    "    dp1[0] = money[0]\n",
    "    for i in range(1, len(money) -1):\n",
    "        dp1[i] = max(dp1[i- 1], dp1[i-2] + money[i])\n",
    "    \n",
    "    # 첫 번재 집 안털기\n",
    "    dp2[0] = 0\n",
    "    for i in range(1, len(money)):\n",
    "        dp2[i] = max(dp2[i- 1], dp2[i-2] + money[i])\n",
    "    \n",
    "    answer = max(dp1[-2], dp2[-1])\n",
    "    return answer"
   ]
  }
 ],
 "metadata": {
  "kernelspec": {
   "display_name": "Python 3",
   "language": "python",
   "name": "python3"
  },
  "language_info": {
   "codemirror_mode": {
    "name": "ipython",
    "version": 3
   },
   "file_extension": ".py",
   "mimetype": "text/x-python",
   "name": "python",
   "nbconvert_exporter": "python",
   "pygments_lexer": "ipython3",
   "version": "3.8.8"
  },
  "toc": {
   "base_numbering": 1,
   "nav_menu": {},
   "number_sections": true,
   "sideBar": true,
   "skip_h1_title": false,
   "title_cell": "Table of Contents",
   "title_sidebar": "Contents",
   "toc_cell": false,
   "toc_position": {},
   "toc_section_display": true,
   "toc_window_display": false
  }
 },
 "nbformat": 4,
 "nbformat_minor": 4
}
