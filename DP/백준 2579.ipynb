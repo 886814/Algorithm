{
 "cells": [
  {
   "cell_type": "code",
   "execution_count": null,
   "metadata": {},
   "outputs": [],
   "source": [
    "n = int(input())\n",
    "a = [int(input()) for _ in range(n)]\n",
    "dp = [0] * len(a)\n",
    "\n",
    "if n >= 1:\n",
    "    dp[0] = a[0]\n",
    "if n >= 2:\n",
    "    dp[1] = a[0] + a[1]\n",
    "if n >= 3:\n",
    "    dp[2] = max(a[0], a[1]) + a[2]\n",
    "if n >= 4:\n",
    "    for i in range(3,n):\n",
    "        dp[i] = max(dp[i-3] + a[i-1] + a[i],dp[i-2] + a[i])\n",
    "\n",
    "print(dp[-1])"
   ]
  }
 ],
 "metadata": {
  "kernelspec": {
   "display_name": "Python 3",
   "language": "python",
   "name": "python3"
  },
  "language_info": {
   "codemirror_mode": {
    "name": "ipython",
    "version": 3
   },
   "file_extension": ".py",
   "mimetype": "text/x-python",
   "name": "python",
   "nbconvert_exporter": "python",
   "pygments_lexer": "ipython3",
   "version": "3.8.3"
  },
  "toc": {
   "base_numbering": 1,
   "nav_menu": {},
   "number_sections": true,
   "sideBar": true,
   "skip_h1_title": false,
   "title_cell": "Table of Contents",
   "title_sidebar": "Contents",
   "toc_cell": false,
   "toc_position": {},
   "toc_section_display": true,
   "toc_window_display": false
  }
 },
 "nbformat": 4,
 "nbformat_minor": 4
}
