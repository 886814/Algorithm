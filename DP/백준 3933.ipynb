{
 "cells": [
  {
   "cell_type": "code",
   "execution_count": null,
   "metadata": {},
   "outputs": [],
   "source": [
    "max_ = 2**15\n",
    "dp = [[0] * 5 for _ in range(max_+1)]\n",
    "sqrt = int(max_**(1/2))\n",
    "\n",
    "for i in range(1, sqrt+1):\n",
    "    dp[i*i][1] = 1\n",
    "    \n",
    "    for j in range(i*i,max_+1):\n",
    "        dp[j][2] += dp[j-i*i][1]\n",
    "        dp[j][3] += dp[j-i*i][2]\n",
    "        dp[j][4] += dp[j-i*i][3]\n",
    "    \n",
    "for _ in range(255):\n",
    "    ans = 0\n",
    "    n = int(input())\n",
    "    if n == 0:\n",
    "        break\n",
    "    \n",
    "    for s in range(1,5):\n",
    "        ans += dp[n][s]\n",
    "        \n",
    "    print(ans)"
   ]
  }
 ],
 "metadata": {
  "kernelspec": {
   "display_name": "Python 3 (ipykernel)",
   "language": "python",
   "name": "python3"
  },
  "language_info": {
   "codemirror_mode": {
    "name": "ipython",
    "version": 3
   },
   "file_extension": ".py",
   "mimetype": "text/x-python",
   "name": "python",
   "nbconvert_exporter": "python",
   "pygments_lexer": "ipython3",
   "version": "3.9.7"
  },
  "toc": {
   "base_numbering": 1,
   "nav_menu": {},
   "number_sections": true,
   "sideBar": true,
   "skip_h1_title": false,
   "title_cell": "Table of Contents",
   "title_sidebar": "Contents",
   "toc_cell": false,
   "toc_position": {},
   "toc_section_display": true,
   "toc_window_display": false
  }
 },
 "nbformat": 4,
 "nbformat_minor": 4
}
