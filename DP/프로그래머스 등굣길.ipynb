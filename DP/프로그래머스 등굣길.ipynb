{
 "cells": [
  {
   "cell_type": "code",
   "execution_count": null,
   "metadata": {},
   "outputs": [],
   "source": [
    "def solution(m, n, puddles):\n",
    "    board = [[0]*m for _ in range(n)]\n",
    "    dp =  [[0]*m for _ in range(n)]\n",
    "    dp[0][0] = 1\n",
    "\n",
    "    for puddle in puddles:\n",
    "        x,y = puddle\n",
    "        board[y-1][x-1] = -1\n",
    "\n",
    "    for i in range(m):\n",
    "        for j in range(n):\n",
    "            if j == 0 and i == 0:\n",
    "                continue\n",
    "            if board[j][i] != -1:\n",
    "                if board[j-1][i] == -1:\n",
    "                    dp[j][i] = dp[j][i-1]\n",
    "                elif board[j][i-1] == -1:\n",
    "                    dp[j][i] = dp[j-1][i]\n",
    "                else:\n",
    "                    dp[j][i] = dp[j-1][i] + dp[j][i-1]\n",
    "\n",
    "    return dp[n-1][m-1] % 1000000007"
   ]
  }
 ],
 "metadata": {
  "kernelspec": {
   "display_name": "Python 3",
   "language": "python",
   "name": "python3"
  },
  "language_info": {
   "codemirror_mode": {
    "name": "ipython",
    "version": 3
   },
   "file_extension": ".py",
   "mimetype": "text/x-python",
   "name": "python",
   "nbconvert_exporter": "python",
   "pygments_lexer": "ipython3",
   "version": "3.8.3"
  },
  "toc": {
   "base_numbering": 1,
   "nav_menu": {},
   "number_sections": true,
   "sideBar": true,
   "skip_h1_title": false,
   "title_cell": "Table of Contents",
   "title_sidebar": "Contents",
   "toc_cell": false,
   "toc_position": {},
   "toc_section_display": true,
   "toc_window_display": false
  }
 },
 "nbformat": 4,
 "nbformat_minor": 4
}
