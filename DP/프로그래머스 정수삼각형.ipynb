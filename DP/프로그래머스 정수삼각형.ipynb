{
 "cells": [
  {
   "cell_type": "code",
   "execution_count": null,
   "metadata": {},
   "outputs": [],
   "source": [
    "def solution(triangle):\t\n",
    "    dp = [[0] * i for i in range(1,len(triangle)+1)]\n",
    "    dp[0] = triangle[0]\n",
    "    dp[1] = [i + dp[0][0] for i in triangle[1]]\n",
    "\n",
    "    for i in range(1,len(triangle)):\n",
    "        dp[i][0] = dp[i-1][0] + triangle[i][0]\n",
    "        dp[i][-1] = dp[i-1][-1] + triangle[i][-1]\n",
    "\n",
    "\n",
    "    for i in range(2, len(triangle)):\n",
    "        for j in range(1, len(triangle[i])-1):\n",
    "            dp[i][j] = max(dp[i-1][j] + triangle[i][j], dp[i-1][j-1] + triangle[i][j])\n",
    "\n",
    "    return max(dp[-1])"
   ]
  }
 ],
 "metadata": {
  "kernelspec": {
   "display_name": "Python 3 (ipykernel)",
   "language": "python",
   "name": "python3"
  },
  "language_info": {
   "codemirror_mode": {
    "name": "ipython",
    "version": 3
   },
   "file_extension": ".py",
   "mimetype": "text/x-python",
   "name": "python",
   "nbconvert_exporter": "python",
   "pygments_lexer": "ipython3",
   "version": "3.9.11"
  },
  "toc": {
   "base_numbering": 1,
   "nav_menu": {},
   "number_sections": true,
   "sideBar": true,
   "skip_h1_title": false,
   "title_cell": "Table of Contents",
   "title_sidebar": "Contents",
   "toc_cell": false,
   "toc_position": {},
   "toc_section_display": true,
   "toc_window_display": false
  }
 },
 "nbformat": 4,
 "nbformat_minor": 4
}
