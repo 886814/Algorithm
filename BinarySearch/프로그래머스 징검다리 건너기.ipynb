{
 "cells": [
  {
   "cell_type": "code",
   "execution_count": null,
   "metadata": {},
   "outputs": [],
   "source": [
    "def solution(stones, k):\n",
    "    lt = min(stones)\n",
    "    rt = max(stones)\n",
    "    mid = (rt + lt) // 2\n",
    "    \n",
    "    while lt <= rt:\n",
    "        mid = (rt + lt) // 2\n",
    "        cnt = 0\n",
    "        for i in range(len(stones)):\n",
    "            if stones[i] - mid < 0:\n",
    "                cnt += 1\n",
    "            else:\n",
    "                cnt = 0\n",
    "            if cnt == k:\n",
    "                rt = mid - 1\n",
    "                break\n",
    "        else:\n",
    "            lt = mid + 1\n",
    "            result = mid\n",
    "            \n",
    "    return result"
   ]
  }
 ],
 "metadata": {
  "kernelspec": {
   "display_name": "Python 3",
   "language": "python",
   "name": "python3"
  },
  "language_info": {
   "codemirror_mode": {
    "name": "ipython",
    "version": 3
   },
   "file_extension": ".py",
   "mimetype": "text/x-python",
   "name": "python",
   "nbconvert_exporter": "python",
   "pygments_lexer": "ipython3",
   "version": "3.8.8"
  },
  "toc": {
   "base_numbering": 1,
   "nav_menu": {},
   "number_sections": true,
   "sideBar": true,
   "skip_h1_title": false,
   "title_cell": "Table of Contents",
   "title_sidebar": "Contents",
   "toc_cell": false,
   "toc_position": {},
   "toc_section_display": true,
   "toc_window_display": false
  }
 },
 "nbformat": 4,
 "nbformat_minor": 4
}
