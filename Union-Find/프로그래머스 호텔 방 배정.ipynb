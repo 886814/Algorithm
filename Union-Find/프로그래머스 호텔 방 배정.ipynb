{
 "cells": [
  {
   "cell_type": "code",
   "execution_count": null,
   "metadata": {},
   "outputs": [],
   "source": [
    "def solution(k, room_number):\n",
    "    room_dic = {}\n",
    "    ret = []\n",
    "    for i in room_number:\n",
    "        n = i\n",
    "        visit = [n]\n",
    "        while n in room_dic:\n",
    "            n = room_dic[n]\n",
    "            visit.append(n)\n",
    "        ret.append(n)\n",
    "        for j in visit:\n",
    "            room_dic[j] = n+1\n",
    "    return ret"
   ]
  }
 ],
 "metadata": {
  "kernelspec": {
   "display_name": "Python 3 (ipykernel)",
   "language": "python",
   "name": "python3"
  },
  "language_info": {
   "codemirror_mode": {
    "name": "ipython",
    "version": 3
   },
   "file_extension": ".py",
   "mimetype": "text/x-python",
   "name": "python",
   "nbconvert_exporter": "python",
   "pygments_lexer": "ipython3",
   "version": "3.9.7"
  },
  "toc": {
   "base_numbering": 1,
   "nav_menu": {},
   "number_sections": true,
   "sideBar": true,
   "skip_h1_title": false,
   "title_cell": "Table of Contents",
   "title_sidebar": "Contents",
   "toc_cell": false,
   "toc_position": {},
   "toc_section_display": true,
   "toc_window_display": false
  }
 },
 "nbformat": 4,
 "nbformat_minor": 4
}
