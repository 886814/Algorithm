{
 "cells": [
  {
   "cell_type": "code",
   "execution_count": null,
   "metadata": {},
   "outputs": [],
   "source": [
    "N, L = map(int, input().strip().split(' '))\n",
    "hole = list(map(int, input().strip().split(' ')))\n",
    "hole.sort()\n",
    "\n",
    "start = 0\n",
    "tape_count = 0\n",
    "\n",
    "def find_interval(h, l):\n",
    "    i = 0\n",
    "    interval = 0\n",
    "    while i < len(h)-1:\n",
    "        if interval + (h[i+1] - h[i]) < l:  \n",
    "            interval = interval + (h[i+1] - h[i])\n",
    "            i += 1\n",
    "        else:\n",
    "            return i\n",
    "    return i\n",
    "\n",
    "while start < len(hole):\n",
    "    start = start + find_interval(hole[start:], L) + 1\n",
    "    tape_count += 1\n",
    "\n",
    "print(tape_count)"
   ]
  }
 ],
 "metadata": {
  "kernelspec": {
   "display_name": "Python 3",
   "language": "python",
   "name": "python3"
  },
  "language_info": {
   "codemirror_mode": {
    "name": "ipython",
    "version": 3
   },
   "file_extension": ".py",
   "mimetype": "text/x-python",
   "name": "python",
   "nbconvert_exporter": "python",
   "pygments_lexer": "ipython3",
   "version": "3.8.8"
  },
  "toc": {
   "base_numbering": 1,
   "nav_menu": {},
   "number_sections": true,
   "sideBar": true,
   "skip_h1_title": false,
   "title_cell": "Table of Contents",
   "title_sidebar": "Contents",
   "toc_cell": false,
   "toc_position": {},
   "toc_section_display": true,
   "toc_window_display": false
  }
 },
 "nbformat": 4,
 "nbformat_minor": 4
}
