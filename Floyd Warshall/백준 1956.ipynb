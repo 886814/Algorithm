{
 "cells": [
  {
   "cell_type": "code",
   "execution_count": null,
   "metadata": {},
   "outputs": [],
   "source": [
    "V, E = map(int, input().split())\n",
    "\n",
    "matrix = [[int(1e9)] * (V+1) for _ in range(V+1)]\n",
    "for _ in range(E):\n",
    "    x, y, c = map(int, input().split())\n",
    "    matrix[x][y] = c\n",
    "\n",
    "for k in range(1, V+1):\n",
    "    for i in range(1, V+1):\n",
    "        for j in range(1, V+1):\n",
    "            if matrix[i][k] + matrix[k][j] < matrix[i][j]:\n",
    "                matrix[i][j] = matrix[i][k] + matrix[k][j]\n",
    "\n",
    "answer = 1e9\n",
    "for i in range(1, V+1):\n",
    "    answer = min(answer, matrix[i][i])\n",
    "\n",
    "if answer == 1e9:\n",
    "    print(-1)\n",
    "else:\n",
    "    print(answer"
   ]
  }
 ],
 "metadata": {
  "kernelspec": {
   "display_name": "Python 3",
   "language": "python",
   "name": "python3"
  },
  "language_info": {
   "codemirror_mode": {
    "name": "ipython",
    "version": 3
   },
   "file_extension": ".py",
   "mimetype": "text/x-python",
   "name": "python",
   "nbconvert_exporter": "python",
   "pygments_lexer": "ipython3",
   "version": "3.8.8"
  },
  "toc": {
   "base_numbering": 1,
   "nav_menu": {},
   "number_sections": true,
   "sideBar": true,
   "skip_h1_title": false,
   "title_cell": "Table of Contents",
   "title_sidebar": "Contents",
   "toc_cell": false,
   "toc_position": {},
   "toc_section_display": true,
   "toc_window_display": false
  }
 },
 "nbformat": 4,
 "nbformat_minor": 4
}
