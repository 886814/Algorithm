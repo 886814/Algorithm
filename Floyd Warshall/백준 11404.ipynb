{
 "cells": [
  {
   "cell_type": "code",
   "execution_count": null,
   "metadata": {},
   "outputs": [],
   "source": [
    "import sys\n",
    "\n",
    "INF = int(1e9)\n",
    "n = int(sys.stdin.readline())\n",
    "m = int(sys.stdin.readline())\n",
    "dis = [[INF]*(n+1) for _ in range(n+1)]\n",
    "for i in range(m):\n",
    "    x,y,v = map(int,sys.stdin.readline().split())\n",
    "    if dis[x][y] > v:\n",
    "        dis[x][y] = v\n",
    "for i in range(1,n+1):\n",
    "    dis[i][i] = 0\n",
    "for k in range(1,n+1):\n",
    "    for i in range(1,n+1):\n",
    "        for j in range(1,n+1):\n",
    "            if dis[i][j] > dis[i][k] + dis[k][j]:\n",
    "                dis[i][j] = dis[i][k] + dis[k][j]\n",
    "for i in range(1,n+1):\n",
    "    for j in range(1,n+1):\n",
    "        if dis[i][j] == INF:\n",
    "            print(0,end = \" \")\n",
    "        else:\n",
    "            print(dis[i][j], end = \" \")\n",
    "    print()"
   ]
  }
 ],
 "metadata": {
  "kernelspec": {
   "display_name": "Python 3",
   "language": "python",
   "name": "python3"
  },
  "language_info": {
   "codemirror_mode": {
    "name": "ipython",
    "version": 3
   },
   "file_extension": ".py",
   "mimetype": "text/x-python",
   "name": "python",
   "nbconvert_exporter": "python",
   "pygments_lexer": "ipython3",
   "version": "3.8.8"
  },
  "toc": {
   "base_numbering": 1,
   "nav_menu": {},
   "number_sections": true,
   "sideBar": true,
   "skip_h1_title": false,
   "title_cell": "Table of Contents",
   "title_sidebar": "Contents",
   "toc_cell": false,
   "toc_position": {},
   "toc_section_display": true,
   "toc_window_display": false
  }
 },
 "nbformat": 4,
 "nbformat_minor": 4
}
