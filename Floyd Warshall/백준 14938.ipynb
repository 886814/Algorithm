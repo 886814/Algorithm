{
 "cells": [
  {
   "cell_type": "code",
   "execution_count": null,
   "id": "f04d0fce",
   "metadata": {},
   "outputs": [],
   "source": [
    "n,m,r = map(int,input().split())\n",
    "items = list(map(int,input().split()))\n",
    "dis = [[9999] * (n+1) for _ in range(n+1)]\n",
    "ans = 0\n",
    "\n",
    "for i in range(1,n+1):\n",
    "    dis[i][i] = 0\n",
    "\n",
    "for i in range(r):\n",
    "    a,b,l = map(int,input().split())\n",
    "    dis[a][b] = l\n",
    "    dis[b][a] = l\n",
    "    \n",
    "for s in range(1,n+1):\n",
    "    for i in range(1,n+1):\n",
    "        for j in range(1,n+1):\n",
    "            dis[i][j] = min(dis[i][s] + dis[s][j], dis[i][j])\n",
    "    \n",
    "for i in range(n):\n",
    "    temp = items[i]\n",
    "    for j in range(n):\n",
    "        if i != j and dis[i+1][j+1] <= m:\n",
    "            temp += items[j]\n",
    "    ans = max(ans,temp)\n",
    "    \n",
    "print(ans)"
   ]
  }
 ],
 "metadata": {
  "kernelspec": {
   "display_name": "Python 3 (ipykernel)",
   "language": "python",
   "name": "python3"
  },
  "language_info": {
   "codemirror_mode": {
    "name": "ipython",
    "version": 3
   },
   "file_extension": ".py",
   "mimetype": "text/x-python",
   "name": "python",
   "nbconvert_exporter": "python",
   "pygments_lexer": "ipython3",
   "version": "3.9.7"
  }
 },
 "nbformat": 4,
 "nbformat_minor": 5
}
