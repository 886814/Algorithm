{
 "cells": [
  {
   "cell_type": "code",
   "execution_count": null,
   "metadata": {},
   "outputs": [],
   "source": [
    "n=int(input())\n",
    "arr=list(map(int, input().split()))\n",
    "arr.insert(0,0)\n",
    "dy=[0]*(n+1)\n",
    "dy[1]=1\n",
    "res=0\n",
    "for i in range(1, n+1):\n",
    "    max=0\n",
    "    for j in range(i-1, 0, -1):\n",
    "        if arr[j]<arr[i] and dy[j]>max:\n",
    "            max=dy[j]\n",
    "    dy[i]=max+1\n",
    "    if dy[i]>res:\n",
    "        res=dy[i]\n",
    "print(res)"
   ]
  }
 ],
 "metadata": {
  "kernelspec": {
   "display_name": "Python 3",
   "language": "python",
   "name": "python3"
  },
  "language_info": {
   "codemirror_mode": {
    "name": "ipython",
    "version": 3
   },
   "file_extension": ".py",
   "mimetype": "text/x-python",
   "name": "python",
   "nbconvert_exporter": "python",
   "pygments_lexer": "ipython3",
   "version": "3.8.3"
  },
  "toc": {
   "base_numbering": 1,
   "nav_menu": {},
   "number_sections": true,
   "sideBar": true,
   "skip_h1_title": false,
   "title_cell": "Table of Contents",
   "title_sidebar": "Contents",
   "toc_cell": false,
   "toc_position": {},
   "toc_section_display": true,
   "toc_window_display": false
  }
 },
 "nbformat": 4,
 "nbformat_minor": 4
}
