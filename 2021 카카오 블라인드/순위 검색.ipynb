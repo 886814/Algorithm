{
 "cells": [
  {
   "cell_type": "code",
   "execution_count": null,
   "metadata": {},
   "outputs": [],
   "source": [
    "from itertools import combinations\n",
    "def solution(info, query):\n",
    "    info = [x.split() for x in info]\n",
    "    query = [x.replace('and','').split() for x in query]\n",
    "    result = []\n",
    "\n",
    "    for q in query:\n",
    "        cnt = 0\n",
    "        for i in info:\n",
    "            if int(i[-1]) < int(q[-1]):\n",
    "                continue\n",
    "            for j in range(4):\n",
    "                if q[j] == i[j] or q[j] == \"-\":\n",
    "                    pass\n",
    "                else:\n",
    "                    break\n",
    "            else:\n",
    "                cnt += 1\n",
    "        result.append(cnt)\n",
    "\n",
    "    return result"
   ]
  }
 ],
 "metadata": {
  "kernelspec": {
   "display_name": "Python 3",
   "language": "python",
   "name": "python3"
  },
  "language_info": {
   "codemirror_mode": {
    "name": "ipython",
    "version": 3
   },
   "file_extension": ".py",
   "mimetype": "text/x-python",
   "name": "python",
   "nbconvert_exporter": "python",
   "pygments_lexer": "ipython3",
   "version": "3.8.8"
  },
  "toc": {
   "base_numbering": 1,
   "nav_menu": {},
   "number_sections": true,
   "sideBar": true,
   "skip_h1_title": false,
   "title_cell": "Table of Contents",
   "title_sidebar": "Contents",
   "toc_cell": false,
   "toc_position": {},
   "toc_section_display": true,
   "toc_window_display": false
  }
 },
 "nbformat": 4,
 "nbformat_minor": 4
}
