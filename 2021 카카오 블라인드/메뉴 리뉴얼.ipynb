{
 "cells": [
  {
   "cell_type": "code",
   "execution_count": null,
   "metadata": {},
   "outputs": [],
   "source": [
    "import itertools as it\n",
    "def solution(orders, course):\n",
    "    \n",
    "    count = dict()\n",
    "    answer = []\n",
    "\n",
    "    for order in orders:\n",
    "        for i in range(2,len(order)+1):\n",
    "            for x in it.combinations(sorted(order),i):\n",
    "                x = \"\".join(x)\n",
    "                count[x] = 1 + count.get(x,0)\n",
    "\n",
    "    count = sorted(count.items())\n",
    "\n",
    "    for i in course:\n",
    "        temp = [(x[0],x[1]) for x in count if len(x[0]) == i and x[1] >= 2]\n",
    "        for j in temp:\n",
    "            if j[1] == max(temp,key = lambda x: x[1])[1]:\n",
    "                answer.append(j)\n",
    "\n",
    "    return sorted([x[0] for x in answer])"
   ]
  }
 ],
 "metadata": {
  "kernelspec": {
   "display_name": "Python 3",
   "language": "python",
   "name": "python3"
  },
  "language_info": {
   "codemirror_mode": {
    "name": "ipython",
    "version": 3
   },
   "file_extension": ".py",
   "mimetype": "text/x-python",
   "name": "python",
   "nbconvert_exporter": "python",
   "pygments_lexer": "ipython3",
   "version": "3.8.8"
  },
  "toc": {
   "base_numbering": 1,
   "nav_menu": {},
   "number_sections": true,
   "sideBar": true,
   "skip_h1_title": false,
   "title_cell": "Table of Contents",
   "title_sidebar": "Contents",
   "toc_cell": false,
   "toc_position": {},
   "toc_section_display": true,
   "toc_window_display": false
  }
 },
 "nbformat": 4,
 "nbformat_minor": 4
}
