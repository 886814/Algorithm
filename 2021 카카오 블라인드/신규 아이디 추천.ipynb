{
 "cells": [
  {
   "cell_type": "code",
   "execution_count": null,
   "metadata": {},
   "outputs": [],
   "source": [
    "import re\n",
    "def solution(new_id):\n",
    "    \n",
    "    # 1단계\n",
    "    temp = list(new_id.lower())\n",
    "    \n",
    "    # 2단계\n",
    "    for i in new_id:\n",
    "        if not i.isalpha() and not i.isdigit() and i != \"-\" and i != \"_\" and i != \".\":\n",
    "            temp.remove(i)\n",
    "    temp = \"\".join(temp)\n",
    "    \n",
    "    # 3단계\n",
    "    p = re.compile(\"[.]+\")\n",
    "    temp = str(p.sub(\".\",temp))\n",
    "    \n",
    "    # 4단계\n",
    "    temp = temp.strip(\".\")\n",
    "    \n",
    "    # 5단계\n",
    "    if len(temp) == 0:\n",
    "        temp = \"a\"\n",
    "    \n",
    "    # 6단계\n",
    "    if len(temp) >= 16:\n",
    "        temp = temp[:15]\n",
    "    temp = temp.rstrip(\".\")\n",
    "\n",
    "    # 7단계\n",
    "    if len(temp) <= 2:\n",
    "        while len(temp) < 3:\n",
    "            temp += temp[-1]\n",
    "    return temp"
   ]
  }
 ],
 "metadata": {
  "kernelspec": {
   "display_name": "Python 3",
   "language": "python",
   "name": "python3"
  },
  "language_info": {
   "codemirror_mode": {
    "name": "ipython",
    "version": 3
   },
   "file_extension": ".py",
   "mimetype": "text/x-python",
   "name": "python",
   "nbconvert_exporter": "python",
   "pygments_lexer": "ipython3",
   "version": "3.8.8"
  },
  "toc": {
   "base_numbering": 1,
   "nav_menu": {},
   "number_sections": true,
   "sideBar": true,
   "skip_h1_title": false,
   "title_cell": "Table of Contents",
   "title_sidebar": "Contents",
   "toc_cell": false,
   "toc_position": {},
   "toc_section_display": true,
   "toc_window_display": false
  }
 },
 "nbformat": 4,
 "nbformat_minor": 4
}
