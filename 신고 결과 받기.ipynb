{
 "cells": [
  {
   "cell_type": "code",
   "execution_count": null,
   "metadata": {},
   "outputs": [],
   "source": [
    "def solution(id_list, report, k):\n",
    "    result = [0] * len(id_list)\n",
    "\n",
    "    dic1 = {}\n",
    "    dic2 = {}\n",
    "    for i in id_list:\n",
    "        dic1[i] = []\n",
    "        dic2[i] = 0\n",
    "\n",
    "    new_report = set(report)\n",
    "\n",
    "    for j in new_report:\n",
    "        report_,reported = j.split()\n",
    "        dic1[report_].append(reported)\n",
    "        dic2[reported] += 1\n",
    "\n",
    "    for s in range(len(dic1.values())):\n",
    "        for name in list(dic1.values())[s]:\n",
    "            if dic2[name] >= k:\n",
    "                result[s] += 1\n",
    "    return result"
   ]
  }
 ],
 "metadata": {
  "kernelspec": {
   "display_name": "Python 3 (ipykernel)",
   "language": "python",
   "name": "python3"
  },
  "language_info": {
   "codemirror_mode": {
    "name": "ipython",
    "version": 3
   },
   "file_extension": ".py",
   "mimetype": "text/x-python",
   "name": "python",
   "nbconvert_exporter": "python",
   "pygments_lexer": "ipython3",
   "version": "3.9.11"
  },
  "toc": {
   "base_numbering": 1,
   "nav_menu": {},
   "number_sections": true,
   "sideBar": true,
   "skip_h1_title": false,
   "title_cell": "Table of Contents",
   "title_sidebar": "Contents",
   "toc_cell": false,
   "toc_position": {},
   "toc_section_display": true,
   "toc_window_display": false
  }
 },
 "nbformat": 4,
 "nbformat_minor": 4
}
