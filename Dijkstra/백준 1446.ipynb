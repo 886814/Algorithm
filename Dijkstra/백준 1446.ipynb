{
 "cells": [
  {
   "cell_type": "code",
   "execution_count": null,
   "metadata": {},
   "outputs": [],
   "source": [
    "import sys\n",
    "import heapq\n",
    "N, D = map(int, sys.stdin.readline().split())\n",
    "graph = [[] for _ in range(D+1)]\n",
    "\n",
    "for i in range(D):\n",
    "    graph[i].append((i+1, 1))\n",
    "\n",
    "for i in range(N):\n",
    "    start, end, length = map(int, sys.stdin.readline().split())\n",
    "    if end > D: continue\n",
    "    graph[start].append((end, length))\n",
    "\n",
    "INF = 987654321\n",
    "distance = [INF]*(D+1)\n",
    "distance[0] = 0\n",
    "\n",
    "q = []\n",
    "heapq.heappush(q, (0, 0))\n",
    "while q:\n",
    "    d, now = heapq.heappop(q)\n",
    "    if distance[now] < d: continue\n",
    "\n",
    "    for x in graph[now]:\n",
    "        cost = d + x[1]\n",
    "\n",
    "        if distance[x[0]] > cost:\n",
    "            distance[x[0]] = cost\n",
    "            heapq.heappush(q, (cost, x[0]))\n",
    "\n",
    "print(distance[D])"
   ]
  }
 ],
 "metadata": {
  "kernelspec": {
   "display_name": "Python 3",
   "language": "python",
   "name": "python3"
  },
  "language_info": {
   "codemirror_mode": {
    "name": "ipython",
    "version": 3
   },
   "file_extension": ".py",
   "mimetype": "text/x-python",
   "name": "python",
   "nbconvert_exporter": "python",
   "pygments_lexer": "ipython3",
   "version": "3.8.8"
  },
  "toc": {
   "base_numbering": 1,
   "nav_menu": {},
   "number_sections": true,
   "sideBar": true,
   "skip_h1_title": false,
   "title_cell": "Table of Contents",
   "title_sidebar": "Contents",
   "toc_cell": false,
   "toc_position": {},
   "toc_section_display": true,
   "toc_window_display": false
  }
 },
 "nbformat": 4,
 "nbformat_minor": 4
}
