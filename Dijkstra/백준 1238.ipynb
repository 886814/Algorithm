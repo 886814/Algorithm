{
 "cells": [
  {
   "cell_type": "code",
   "execution_count": null,
   "metadata": {},
   "outputs": [],
   "source": [
    "import heapq\n",
    "import sys\n",
    "\n",
    "def dijkstra(start):\n",
    "    dis = [INF] * (n+1)\n",
    "    q = []\n",
    "    heapq.heappush(q,(0,start))\n",
    "    dis[start] = 0\n",
    "    while q:\n",
    "        dist, now = heapq.heappop(q)\n",
    "        if dis[now] < dist:\n",
    "            continue\n",
    "        for i in graph[now]:\n",
    "            cost = dist + i[1]\n",
    "            if cost < dis[i[0]]:\n",
    "                dis[i[0]] = cost\n",
    "                heapq.heappush(q,(cost,i[0]))\n",
    "    return dis[1:]\n",
    "\n",
    "if __name__ == \"__main__\":  \n",
    "    input = sys.stdin.readline\n",
    "    ans = 0\n",
    "    INF = int(1e9)\n",
    "    n,m,x = map(int,input().split())\n",
    "    graph1 = [[] for _ in range(n+1)]\n",
    "    graph2 = [[] for _ in range(n+1)]\n",
    "\n",
    "    for _ in range(m):\n",
    "        start,end,t = map(int,input().split())\n",
    "        graph1[start].append((end,t))\n",
    "        graph2[end].append((start,t))\n",
    "\n",
    "    ans = max([a+b for a,b in zip(dijkstra(graph1,x),dijkstra(graph2,x))])",
    "\n",
    "print(ans)"
   ]
  }
 ],
 "metadata": {
  "kernelspec": {
   "display_name": "Python 3",
   "language": "python",
   "name": "python3"
  },
  "language_info": {
   "codemirror_mode": {
    "name": "ipython",
    "version": 3
   },
   "file_extension": ".py",
   "mimetype": "text/x-python",
   "name": "python",
   "nbconvert_exporter": "python",
   "pygments_lexer": "ipython3",
   "version": "3.8.8"
  },
  "toc": {
   "base_numbering": 1,
   "nav_menu": {},
   "number_sections": true,
   "sideBar": true,
   "skip_h1_title": false,
   "title_cell": "Table of Contents",
   "title_sidebar": "Contents",
   "toc_cell": false,
   "toc_position": {},
   "toc_section_display": true,
   "toc_window_display": false
  }
 },
 "nbformat": 4,
 "nbformat_minor": 4
}
