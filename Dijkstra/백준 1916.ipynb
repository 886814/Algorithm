{
 "cells": [
  {
   "cell_type": "code",
   "execution_count": null,
   "metadata": {},
   "outputs": [],
   "source": [
    "import heapq\n",
    "import sys\n",
    "INF = sys.maxsize\n",
    "N = int(sys.stdin.readline())\n",
    "M = int(sys.stdin.readline())\n",
    "dis = [INF] * (N+1)\n",
    "nodes = [[] for _ in range(N+1)]\n",
    "\n",
    "for _ in range(M):\n",
    "    a,b,c = map(int,sys.stdin.readline().split())\n",
    "    nodes[a].append((b,c))\n",
    "\n",
    "start,end = map(int,sys.stdin.readline().split())\n",
    "    \n",
    "q = []\n",
    "heapq.heappush(q, (0, start))\n",
    "dis[start] = 0\n",
    "while q:\n",
    "    dist, now = heapq.heappop(q)\n",
    "    if dis[now] < dist:\n",
    "        continue\n",
    "    for node in nodes[now]:\n",
    "        cost = dist + node[1]\n",
    "        if cost < dis[node[0]]:\n",
    "            dis[node[0]] = cost\n",
    "            heapq.heappush(q, (cost,node[0]))\n",
    "\n",
    "print(dis[end])"
   ]
  }
 ],
 "metadata": {
  "kernelspec": {
   "display_name": "Python 3",
   "language": "python",
   "name": "python3"
  },
  "language_info": {
   "codemirror_mode": {
    "name": "ipython",
    "version": 3
   },
   "file_extension": ".py",
   "mimetype": "text/x-python",
   "name": "python",
   "nbconvert_exporter": "python",
   "pygments_lexer": "ipython3",
   "version": "3.8.8"
  },
  "toc": {
   "base_numbering": 1,
   "nav_menu": {},
   "number_sections": true,
   "sideBar": true,
   "skip_h1_title": false,
   "title_cell": "Table of Contents",
   "title_sidebar": "Contents",
   "toc_cell": false,
   "toc_position": {},
   "toc_section_display": true,
   "toc_window_display": false
  }
 },
 "nbformat": 4,
 "nbformat_minor": 4
}
