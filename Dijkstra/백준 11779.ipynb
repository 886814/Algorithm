{
 "cells": [
  {
   "cell_type": "code",
   "execution_count": null,
   "metadata": {},
   "outputs": [],
   "source": [
    "import heapq\n",
    "\n",
    "def dijkstra(start):\n",
    "    q = []\n",
    "    heapq.heappush(q,(0,start))\n",
    "    dis[start] = 0\n",
    "    while q:\n",
    "        dist, now = heapq.heappop(q)\n",
    "        if dis[now] < dist:\n",
    "            continue\n",
    "        for i in graph[now]:\n",
    "            cost = dist + i[1]\n",
    "            if dis[i[0]] > cost:\n",
    "                dis[i[0]] ,route[i[0]] = cost, now\n",
    "                heapq.heappush(q,(cost,i[0]))\n",
    "\n",
    "n = int(input())\n",
    "m = int(input())\n",
    "INF = int(1e9)\n",
    "dis = [INF] * (n+1)\n",
    "graph = [[] for _ in range(n+1)]\n",
    "for i in range(m):\n",
    "    a,b,c = map(int,input().split())\n",
    "    graph[a].append((b,c))\n",
    "start, end = map(int,input().split())\n",
    "route = [start] * (n+1)\n",
    "dijkstra(start)\n",
    "\n",
    "ans = []\n",
    "tmp = end\n",
    "while tmp != start:\n",
    "    ans.append(str(tmp))\n",
    "    tmp = route[tmp]\n",
    "\n",
    "ans.append(str(start))\n",
    "ans.reverse()\n",
    "\n",
    "print(dis[end])\n",
    "print(len(ans))\n",
    "print(\" \".join(ans))"
   ]
  }
 ],
 "metadata": {
  "kernelspec": {
   "display_name": "Python 3",
   "language": "python",
   "name": "python3"
  },
  "language_info": {
   "codemirror_mode": {
    "name": "ipython",
    "version": 3
   },
   "file_extension": ".py",
   "mimetype": "text/x-python",
   "name": "python",
   "nbconvert_exporter": "python",
   "pygments_lexer": "ipython3",
   "version": "3.8.8"
  },
  "toc": {
   "base_numbering": 1,
   "nav_menu": {},
   "number_sections": true,
   "sideBar": true,
   "skip_h1_title": false,
   "title_cell": "Table of Contents",
   "title_sidebar": "Contents",
   "toc_cell": false,
   "toc_position": {},
   "toc_section_display": true,
   "toc_window_display": false
  }
 },
 "nbformat": 4,
 "nbformat_minor": 4
}
