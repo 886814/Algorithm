{
 "cells": [
  {
   "cell_type": "code",
   "execution_count": null,
   "metadata": {},
   "outputs": [],
   "source": [
    "import sys\n",
    "from heapq import heappush, heappop\n",
    "\n",
    "input = sys.stdin.readline\n",
    "n = int(input())\n",
    "room = []\n",
    "for _ in range(n):\n",
    "    room.append(list(map(int, input().rstrip())))\n",
    "visit = [[0] * n for _ in range(n)]\n",
    "\n",
    "def dijkstra():\n",
    "    dx = [1, -1, 0, 0]\n",
    "    dy = [0, 0, -1, 1]\n",
    "    heap = []\n",
    "    heappush(heap, [0, 0, 0])\n",
    "    visit[0][0] = 1\n",
    "    while heap:\n",
    "        a, x, y = heappop(heap)\n",
    "        if x == n - 1 and y == n - 1:\n",
    "            print(a)\n",
    "            return\n",
    "        for i in range(4):\n",
    "            nx = x + dx[i]\n",
    "            ny = y + dy[i]\n",
    "            if 0 <= nx < n and 0 <= ny < n and visit[nx][ny] == 0:\n",
    "                visit[nx][ny] = 1\n",
    "                if room[nx][ny] == 0:\n",
    "                    heappush(heap, [a + 1, nx, ny])\n",
    "                else:\n",
    "                    heappush(heap, [a, nx, ny])\n",
    "\n",
    "dijkstra()"
   ]
  }
 ],
 "metadata": {
  "kernelspec": {
   "display_name": "Python 3",
   "language": "python",
   "name": "python3"
  },
  "language_info": {
   "codemirror_mode": {
    "name": "ipython",
    "version": 3
   },
   "file_extension": ".py",
   "mimetype": "text/x-python",
   "name": "python",
   "nbconvert_exporter": "python",
   "pygments_lexer": "ipython3",
   "version": "3.8.8"
  },
  "toc": {
   "base_numbering": 1,
   "nav_menu": {},
   "number_sections": true,
   "sideBar": true,
   "skip_h1_title": false,
   "title_cell": "Table of Contents",
   "title_sidebar": "Contents",
   "toc_cell": false,
   "toc_position": {},
   "toc_section_display": true,
   "toc_window_display": false
  }
 },
 "nbformat": 4,
 "nbformat_minor": 4
}
