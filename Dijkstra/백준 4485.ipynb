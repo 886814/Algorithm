{
 "cells": [
  {
   "cell_type": "code",
   "execution_count": null,
   "metadata": {},
   "outputs": [],
   "source": [
    "import heapq\n",
    "\n",
    "dx = [1,0,-1,0]\n",
    "dy = [0,-1,0,1]\n",
    "inf = int(1e9)\n",
    "m = 1\n",
    "\n",
    "def dijkstra(start):\n",
    "    q = []\n",
    "    heapq.heappush(q,(graph[0][0],0,0))\n",
    "    dis[0][0] = graph[0][0]\n",
    "    while q:\n",
    "        dist, ax, ay = heapq.heappop(q)\n",
    "        if ax == n-1 and ay == n-1:\n",
    "            print(\"Problem {}: {}\".format(m,dis[n-1][n-1]))\n",
    "            break\n",
    "        for k in range(4):\n",
    "            x = ax + dx[k]\n",
    "            y = ay + dy[k]\n",
    "            if 0 <= x < n and 0 <= y < n:\n",
    "                cost = graph[x][y] + dist\n",
    "                if dis[x][y] > cost:\n",
    "                    dis[x][y] = cost\n",
    "                    heapq.heappush(q,(cost,x,y))\n",
    "\n",
    "while True:\n",
    "    n = int(input())\n",
    "    if n == 0:\n",
    "        break\n",
    "    dis = [[inf]*(n) for _ in range(n)]\n",
    "    graph = [list(map(int,input().split())) for _ in range(n)]\n",
    "    dijkstra((graph[0][0],0,0))\n",
    "    m += 1\n",
    "  "
   ]
  }
 ],
 "metadata": {
  "kernelspec": {
   "display_name": "Python 3",
   "language": "python",
   "name": "python3"
  },
  "language_info": {
   "codemirror_mode": {
    "name": "ipython",
    "version": 3
   },
   "file_extension": ".py",
   "mimetype": "text/x-python",
   "name": "python",
   "nbconvert_exporter": "python",
   "pygments_lexer": "ipython3",
   "version": "3.8.8"
  },
  "toc": {
   "base_numbering": 1,
   "nav_menu": {},
   "number_sections": true,
   "sideBar": true,
   "skip_h1_title": false,
   "title_cell": "Table of Contents",
   "title_sidebar": "Contents",
   "toc_cell": false,
   "toc_position": {},
   "toc_section_display": true,
   "toc_window_display": false
  }
 },
 "nbformat": 4,
 "nbformat_minor": 4
}
