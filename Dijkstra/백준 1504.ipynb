{
 "cells": [
  {
   "cell_type": "code",
   "execution_count": null,
   "metadata": {},
   "outputs": [],
   "source": [
    "import heapq\n",
    "import sys\n",
    "\n",
    "input = sys.stdin.readline\n",
    "inf = int(1e9)\n",
    "n,e = map(int,input().split())\n",
    "graph = [[] for _ in range(n+1)]\n",
    "for i in range(e):\n",
    "    a,b,c = map(int,input().split())\n",
    "    graph[a].append((b,c))\n",
    "    graph[b].append((a,c))\n",
    "v1,v2 = map(int,input().split())\n",
    "\n",
    "def dijkstra(start):\n",
    "    dis = [inf] * (n+1)\n",
    "    q = []\n",
    "    heapq.heappush(q,(0,start))\n",
    "    dis[start] = 0\n",
    "    while q:\n",
    "        dist, now = heapq.heappop(q)\n",
    "        if dis[now] < dist:\n",
    "            continue\n",
    "        for i in graph[now]:\n",
    "            cost = dist + i[1]\n",
    "            if dis[i[0]] > cost:\n",
    "                dis[i[0]] = cost\n",
    "                heapq.heappush(q,(cost,i[0]))\n",
    "    return dis\n",
    "\n",
    "init = dijkstra(1)\n",
    "from_v1 = dijkstra(v1)\n",
    "from_v2 = dijkstra(v2)\n",
    "\n",
    "ans = min(init[v1] + from_v1[v2] + from_v2[n], init[v2] + from_v2[v1] + from_v1[n])\n",
    "print(ans if ans < inf else -1)"
   ]
  }
 ],
 "metadata": {
  "kernelspec": {
   "display_name": "Python 3",
   "language": "python",
   "name": "python3"
  },
  "language_info": {
   "codemirror_mode": {
    "name": "ipython",
    "version": 3
   },
   "file_extension": ".py",
   "mimetype": "text/x-python",
   "name": "python",
   "nbconvert_exporter": "python",
   "pygments_lexer": "ipython3",
   "version": "3.8.8"
  },
  "toc": {
   "base_numbering": 1,
   "nav_menu": {},
   "number_sections": true,
   "sideBar": true,
   "skip_h1_title": false,
   "title_cell": "Table of Contents",
   "title_sidebar": "Contents",
   "toc_cell": false,
   "toc_position": {},
   "toc_section_display": true,
   "toc_window_display": false
  }
 },
 "nbformat": 4,
 "nbformat_minor": 4
}
