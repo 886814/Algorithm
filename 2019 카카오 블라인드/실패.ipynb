{
 "cells": [
  {
   "cell_type": "code",
   "execution_count": null,
   "metadata": {},
   "outputs": [],
   "source": [
    "def solution(N, stages):\n",
    "    fail = []\n",
    "    l = len(stages)\n",
    "    a = set(stages)\n",
    "    for i in a:\n",
    "        if i > N:\n",
    "            continue\n",
    "        cnt = 0\n",
    "        for j in stages:\n",
    "            if i <= j:\n",
    "                cnt += 1\n",
    "        fail.append((stages.count(i)/cnt,i))\n",
    "    for i in range(1,N+1):\n",
    "        if not i in stages:\n",
    "            fail.append((0,i))\n",
    "\n",
    "    fail.sort(key = lambda x: (-x[0],x[1]))\n",
    "    answer = [x[1] for x in fail]\n",
    "    return answer"
   ]
  }
 ],
 "metadata": {
  "kernelspec": {
   "display_name": "Python 3",
   "language": "python",
   "name": "python3"
  },
  "language_info": {
   "codemirror_mode": {
    "name": "ipython",
    "version": 3
   },
   "file_extension": ".py",
   "mimetype": "text/x-python",
   "name": "python",
   "nbconvert_exporter": "python",
   "pygments_lexer": "ipython3",
   "version": "3.8.8"
  },
  "toc": {
   "base_numbering": 1,
   "nav_menu": {},
   "number_sections": true,
   "sideBar": true,
   "skip_h1_title": false,
   "title_cell": "Table of Contents",
   "title_sidebar": "Contents",
   "toc_cell": false,
   "toc_position": {},
   "toc_section_display": true,
   "toc_window_display": false
  }
 },
 "nbformat": 4,
 "nbformat_minor": 4
}
