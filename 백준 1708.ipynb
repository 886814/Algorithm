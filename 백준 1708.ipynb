{
 "cells": [
  {
   "cell_type": "code",
   "execution_count": null,
   "id": "2620f1d6",
   "metadata": {},
   "outputs": [],
   "source": [
    "def inclination(p1, p2):\n",
    "    return p2[0] - p1[0], p2[1] - p1[1]\n",
    " \n",
    "def ccw(p1, p2, p3):\n",
    "    v, u = inclination(p1, p2), inclination(p2, p3)\n",
    "    if v[0] * u[1] > v[1] * u[0]:\n",
    "        return True\n",
    "    return False\n",
    "     \n",
    "def convex_hull(positions):\n",
    "    convex = list()\n",
    "    for p3 in positions:\n",
    "        while len(convex) >= 2:\n",
    "            p1, p2 = convex[-2], convex[-1]\n",
    "            if ccw(p1, p2, p3):\n",
    "                break\n",
    "            convex.pop()\n",
    "        convex.append(p3)\n",
    "     \n",
    "    return len(convex)\n",
    " \n",
    "n, answer = int(input()), -2\n",
    "positions = list()\n",
    "for i in range(n):\n",
    "    positions.append(list(map(int, input().split())))\n",
    "     \n",
    "positions = sorted(positions, key=lambda pos:(pos[0], pos[1]))\n",
    "answer += convex_hull(positions)\n",
    " \n",
    "positions.reverse()\n",
    "answer += convex_hull(positions)\n",
    "print(answer)\n",
    "\n",
    "\n",
    "좋아요공감\n",
    "공유하기게시글 관리"
   ]
  }
 ],
 "metadata": {
  "kernelspec": {
   "display_name": "Python 3 (ipykernel)",
   "language": "python",
   "name": "python3"
  },
  "language_info": {
   "codemirror_mode": {
    "name": "ipython",
    "version": 3
   },
   "file_extension": ".py",
   "mimetype": "text/x-python",
   "name": "python",
   "nbconvert_exporter": "python",
   "pygments_lexer": "ipython3",
   "version": "3.9.12"
  }
 },
 "nbformat": 4,
 "nbformat_minor": 5
}
